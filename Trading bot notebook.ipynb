{
 "cells": [
  {
   "cell_type": "markdown",
   "id": "7e71ba74",
   "metadata": {
    "id": "7e71ba74"
   },
   "source": [
    "source .venv/bin/activate"
   ]
  },
  {
   "cell_type": "code",
   "execution_count": 9,
   "id": "-KzbAxrxo1Mp",
   "metadata": {
    "executionInfo": {
     "elapsed": 59,
     "status": "ok",
     "timestamp": 1757509813768,
     "user": {
      "displayName": "Михаил Львов",
      "userId": "09729415354557860685"
     },
     "user_tz": -180
    },
    "id": "-KzbAxrxo1Mp"
   },
   "outputs": [],
   "source": [
    "from _core.paths import *\n",
    "from _core.libs import *"
   ]
  },
  {
   "cell_type": "code",
   "execution_count": 10,
   "id": "25e53482",
   "metadata": {
    "colab": {
     "base_uri": "https://localhost:8080/"
    },
    "executionInfo": {
     "elapsed": 12433,
     "status": "ok",
     "timestamp": 1757508433536,
     "user": {
      "displayName": "Михаил Львов",
      "userId": "09729415354557860685"
     },
     "user_tz": -180
    },
    "id": "25e53482",
    "outputId": "0e2cdd94-d019-4377-cbd4-b4fcfaefad1c"
   },
   "outputs": [
    {
     "name": "stdout",
     "output_type": "stream",
     "text": [
      "Запрашиваю актуальный список акций с Московской биржи...\n",
      "✅ Получено 258 активных тикеров.\n",
      "✅ Список тикеров успешно сохранен в файл: /home/restorator/trader_test/universe.csv\n"
     ]
    }
   ],
   "source": [
    "!python -m _tools.update_universe"
   ]
  },
  {
   "cell_type": "code",
   "execution_count": 33,
   "id": "c8cf7b9c",
   "metadata": {
    "colab": {
     "base_uri": "https://localhost:8080/"
    },
    "executionInfo": {
     "elapsed": 204182,
     "status": "ok",
     "timestamp": 1757508640573,
     "user": {
      "displayName": "Михаил Львов",
      "userId": "09729415354557860685"
     },
     "user_tz": -180
    },
    "id": "c8cf7b9c",
    "outputId": "3d7f409a-9d20-4033-aea7-ca7d5901af84"
   },
   "outputs": [
    {
     "name": "stdout",
     "output_type": "stream",
     "text": [
      "--- Начинаю полную загрузку данных за 20 лет ---\n",
      "\n",
      "[1/3] Загрузка котировок по акциям...\n",
      "Загрузка акций: 100%|█████████████████████████| 258/258 [00:17<00:00, 15.03it/s]\n",
      "\n",
      "[2/3] Загрузка истории индекса IMOEX...\n",
      "Загрузка истории индекса IMOEX с 2005-09-12...\n",
      "✅ Полная история индекса IMOEX (5012 строк) сохранена в 1_data/IMOEX.csv\n",
      "\n",
      "[3/3] Загрузка истории ключевой ставки ЦБ РФ...\n",
      "Загрузка полной истории ключевой ставки со страницы: https://www.cbr.ru/hd_base/keyrate/...\n",
      "/home/restorator/trader_test/_tools/download_cbr_rate.py:67: ChainedAssignmentError: A value is trying to be set on a copy of a DataFrame or Series through chained assignment using an inplace method.\n",
      "When using the Copy-on-Write mode, such inplace method never works to update the original DataFrame or Series, because the intermediate object on which we are setting values always behaves as a copy.\n",
      "\n",
      "For example, when doing 'df[col].method(value, inplace=True)', try using 'df.method({col: value}, inplace=True)' instead, to perform the operation inplace on the original object.\n",
      "\n",
      "\n",
      "  merged_df['key_rate'].ffill(inplace=True)\n",
      "✅ Полная история ключевой ставки успешно сохранена в 1_data/CBR_KEY_RATE.csv\n",
      "\n",
      "✅ Все данные успешно загружены и обновлены.\n"
     ]
    }
   ],
   "source": [
    "!python -m _tools.download_all_data"
   ]
  },
  {
   "cell_type": "markdown",
   "id": "12a2da56",
   "metadata": {},
   "source": [
    "Очистить все бумаги, обрезая по 2 дня около длинных разрывов, с минимальным сегментом ≥5 дней:"
   ]
  },
  {
   "cell_type": "code",
   "execution_count": null,
   "id": "17a4d161",
   "metadata": {},
   "outputs": [
    {
     "name": "stdout",
     "output_type": "stream",
     "text": [
      "Cleaning OHLCV: 100%|█████████████████████████| 258/258 [00:05<00:00, 47.05it/s]\n",
      "\n",
      "[OK] Report saved to /home/restorator/trader_test/2_results/clean_report.csv\n"
     ]
    }
   ],
   "source": [
    "!python -m _tools.clean_timeseries --data-dir 1_data --gap-ok 3 --gap-buffer 2 --min-seg-len 5 --inplace"
   ]
  },
  {
   "cell_type": "code",
   "execution_count": 11,
   "id": "325ec739",
   "metadata": {
    "executionInfo": {
     "elapsed": 43,
     "status": "ok",
     "timestamp": 1757508660097,
     "user": {
      "displayName": "Михаил Львов",
      "userId": "09729415354557860685"
     },
     "user_tz": -180
    },
    "id": "325ec739"
   },
   "outputs": [],
   "source": [
    "# --- ⚙️ КОНФИГУРАЦИЯ ---\n",
    "MODEL_NAME = \"universal_v2.0_60_20\"\n",
    "UNIVERSE_FILE = \"universe.csv\"\n",
    "\n",
    "MODEL_NAME_LGBM = f\"{MODEL_NAME}_lgbm\"\n",
    "MODEL_NAME_PERM = f\"{MODEL_NAME}_perm\"\n",
    "MODEL_NAME_HYBRID = f\"{MODEL_NAME}_hybrid\""
   ]
  },
  {
   "cell_type": "code",
   "execution_count": 27,
   "id": "QtDSin1qs7XJ",
   "metadata": {
    "colab": {
     "base_uri": "https://localhost:8080/"
    },
    "executionInfo": {
     "elapsed": 1477,
     "status": "ok",
     "timestamp": 1757510880901,
     "user": {
      "displayName": "Михаил Львов",
      "userId": "09729415354557860685"
     },
     "user_tz": -180
    },
    "id": "QtDSin1qs7XJ",
    "outputId": "0b16e595-d1a0-4587-ebf2-fef77a1863ba"
   },
   "outputs": [
    {
     "ename": "FileNotFoundError",
     "evalue": "[Errno 2] No such file or directory: '/content/drive/MyDrive/Colab Notebooks/trader_test/1_data/GAZP_D1_MOEX.csv'",
     "output_type": "error",
     "traceback": [
      "\u001b[31m---------------------------------------------------------------------------\u001b[39m",
      "\u001b[31mFileNotFoundError\u001b[39m                         Traceback (most recent call last)",
      "\u001b[36mCell\u001b[39m\u001b[36m \u001b[39m\u001b[32mIn[27]\u001b[39m\u001b[32m, line 4\u001b[39m\n\u001b[32m      1\u001b[39m \u001b[38;5;28;01mimport\u001b[39;00m\u001b[38;5;250m \u001b[39m\u001b[34;01mimportlib\u001b[39;00m,\u001b[38;5;250m \u001b[39m\u001b[34;01m_core\u001b[39;00m\u001b[34;01m.\u001b[39;00m\u001b[34;01mfeature_generator\u001b[39;00m\u001b[38;5;250m \u001b[39m\u001b[38;5;28;01mas\u001b[39;00m\u001b[38;5;250m \u001b[39m\u001b[34;01mfg\u001b[39;00m\n\u001b[32m      2\u001b[39m importlib.reload(fg)\n\u001b[32m----> \u001b[39m\u001b[32m4\u001b[39m df = \u001b[43mpd\u001b[49m\u001b[43m.\u001b[49m\u001b[43mread_csv\u001b[49m\u001b[43m(\u001b[49m\n\u001b[32m      5\u001b[39m \u001b[43m    \u001b[49m\u001b[33;43m\"\u001b[39;49m\u001b[33;43m/content/drive/MyDrive/Colab Notebooks/trader_test/1_data/GAZP_D1_MOEX.csv\u001b[39;49m\u001b[33;43m\"\u001b[39;49m\u001b[43m,\u001b[49m\n\u001b[32m      6\u001b[39m \u001b[43m    \u001b[49m\u001b[43mparse_dates\u001b[49m\u001b[43m=\u001b[49m\u001b[43m[\u001b[49m\u001b[33;43m\"\u001b[39;49m\u001b[33;43mdatetime\u001b[39;49m\u001b[33;43m\"\u001b[39;49m\u001b[43m]\u001b[49m\u001b[43m,\u001b[49m\u001b[43m \u001b[49m\u001b[43mindex_col\u001b[49m\u001b[43m=\u001b[49m\u001b[33;43m\"\u001b[39;49m\u001b[33;43mdatetime\u001b[39;49m\u001b[33;43m\"\u001b[39;49m\n\u001b[32m      7\u001b[39m \u001b[43m)\u001b[49m\n\u001b[32m      9\u001b[39m feats = fg.create_features(df)\n\u001b[32m     10\u001b[39m \u001b[38;5;28mprint\u001b[39m(\u001b[33m\"\u001b[39m\u001b[33mРазмер:\u001b[39m\u001b[33m\"\u001b[39m, feats.shape)\n",
      "\u001b[36mFile \u001b[39m\u001b[32m~/trader_test/.venv-tf/lib/python3.12/site-packages/pandas/io/parsers/readers.py:1026\u001b[39m, in \u001b[36mread_csv\u001b[39m\u001b[34m(filepath_or_buffer, sep, delimiter, header, names, index_col, usecols, dtype, engine, converters, true_values, false_values, skipinitialspace, skiprows, skipfooter, nrows, na_values, keep_default_na, na_filter, verbose, skip_blank_lines, parse_dates, infer_datetime_format, keep_date_col, date_parser, date_format, dayfirst, cache_dates, iterator, chunksize, compression, thousands, decimal, lineterminator, quotechar, quoting, doublequote, escapechar, comment, encoding, encoding_errors, dialect, on_bad_lines, delim_whitespace, low_memory, memory_map, float_precision, storage_options, dtype_backend)\u001b[39m\n\u001b[32m   1013\u001b[39m kwds_defaults = _refine_defaults_read(\n\u001b[32m   1014\u001b[39m     dialect,\n\u001b[32m   1015\u001b[39m     delimiter,\n\u001b[32m   (...)\u001b[39m\u001b[32m   1022\u001b[39m     dtype_backend=dtype_backend,\n\u001b[32m   1023\u001b[39m )\n\u001b[32m   1024\u001b[39m kwds.update(kwds_defaults)\n\u001b[32m-> \u001b[39m\u001b[32m1026\u001b[39m \u001b[38;5;28;01mreturn\u001b[39;00m \u001b[43m_read\u001b[49m\u001b[43m(\u001b[49m\u001b[43mfilepath_or_buffer\u001b[49m\u001b[43m,\u001b[49m\u001b[43m \u001b[49m\u001b[43mkwds\u001b[49m\u001b[43m)\u001b[49m\n",
      "\u001b[36mFile \u001b[39m\u001b[32m~/trader_test/.venv-tf/lib/python3.12/site-packages/pandas/io/parsers/readers.py:620\u001b[39m, in \u001b[36m_read\u001b[39m\u001b[34m(filepath_or_buffer, kwds)\u001b[39m\n\u001b[32m    617\u001b[39m _validate_names(kwds.get(\u001b[33m\"\u001b[39m\u001b[33mnames\u001b[39m\u001b[33m\"\u001b[39m, \u001b[38;5;28;01mNone\u001b[39;00m))\n\u001b[32m    619\u001b[39m \u001b[38;5;66;03m# Create the parser.\u001b[39;00m\n\u001b[32m--> \u001b[39m\u001b[32m620\u001b[39m parser = \u001b[43mTextFileReader\u001b[49m\u001b[43m(\u001b[49m\u001b[43mfilepath_or_buffer\u001b[49m\u001b[43m,\u001b[49m\u001b[43m \u001b[49m\u001b[43m*\u001b[49m\u001b[43m*\u001b[49m\u001b[43mkwds\u001b[49m\u001b[43m)\u001b[49m\n\u001b[32m    622\u001b[39m \u001b[38;5;28;01mif\u001b[39;00m chunksize \u001b[38;5;129;01mor\u001b[39;00m iterator:\n\u001b[32m    623\u001b[39m     \u001b[38;5;28;01mreturn\u001b[39;00m parser\n",
      "\u001b[36mFile \u001b[39m\u001b[32m~/trader_test/.venv-tf/lib/python3.12/site-packages/pandas/io/parsers/readers.py:1620\u001b[39m, in \u001b[36mTextFileReader.__init__\u001b[39m\u001b[34m(self, f, engine, **kwds)\u001b[39m\n\u001b[32m   1617\u001b[39m     \u001b[38;5;28mself\u001b[39m.options[\u001b[33m\"\u001b[39m\u001b[33mhas_index_names\u001b[39m\u001b[33m\"\u001b[39m] = kwds[\u001b[33m\"\u001b[39m\u001b[33mhas_index_names\u001b[39m\u001b[33m\"\u001b[39m]\n\u001b[32m   1619\u001b[39m \u001b[38;5;28mself\u001b[39m.handles: IOHandles | \u001b[38;5;28;01mNone\u001b[39;00m = \u001b[38;5;28;01mNone\u001b[39;00m\n\u001b[32m-> \u001b[39m\u001b[32m1620\u001b[39m \u001b[38;5;28mself\u001b[39m._engine = \u001b[38;5;28;43mself\u001b[39;49m\u001b[43m.\u001b[49m\u001b[43m_make_engine\u001b[49m\u001b[43m(\u001b[49m\u001b[43mf\u001b[49m\u001b[43m,\u001b[49m\u001b[43m \u001b[49m\u001b[38;5;28;43mself\u001b[39;49m\u001b[43m.\u001b[49m\u001b[43mengine\u001b[49m\u001b[43m)\u001b[49m\n",
      "\u001b[36mFile \u001b[39m\u001b[32m~/trader_test/.venv-tf/lib/python3.12/site-packages/pandas/io/parsers/readers.py:1880\u001b[39m, in \u001b[36mTextFileReader._make_engine\u001b[39m\u001b[34m(self, f, engine)\u001b[39m\n\u001b[32m   1878\u001b[39m     \u001b[38;5;28;01mif\u001b[39;00m \u001b[33m\"\u001b[39m\u001b[33mb\u001b[39m\u001b[33m\"\u001b[39m \u001b[38;5;129;01mnot\u001b[39;00m \u001b[38;5;129;01min\u001b[39;00m mode:\n\u001b[32m   1879\u001b[39m         mode += \u001b[33m\"\u001b[39m\u001b[33mb\u001b[39m\u001b[33m\"\u001b[39m\n\u001b[32m-> \u001b[39m\u001b[32m1880\u001b[39m \u001b[38;5;28mself\u001b[39m.handles = \u001b[43mget_handle\u001b[49m\u001b[43m(\u001b[49m\n\u001b[32m   1881\u001b[39m \u001b[43m    \u001b[49m\u001b[43mf\u001b[49m\u001b[43m,\u001b[49m\n\u001b[32m   1882\u001b[39m \u001b[43m    \u001b[49m\u001b[43mmode\u001b[49m\u001b[43m,\u001b[49m\n\u001b[32m   1883\u001b[39m \u001b[43m    \u001b[49m\u001b[43mencoding\u001b[49m\u001b[43m=\u001b[49m\u001b[38;5;28;43mself\u001b[39;49m\u001b[43m.\u001b[49m\u001b[43moptions\u001b[49m\u001b[43m.\u001b[49m\u001b[43mget\u001b[49m\u001b[43m(\u001b[49m\u001b[33;43m\"\u001b[39;49m\u001b[33;43mencoding\u001b[39;49m\u001b[33;43m\"\u001b[39;49m\u001b[43m,\u001b[49m\u001b[43m \u001b[49m\u001b[38;5;28;43;01mNone\u001b[39;49;00m\u001b[43m)\u001b[49m\u001b[43m,\u001b[49m\n\u001b[32m   1884\u001b[39m \u001b[43m    \u001b[49m\u001b[43mcompression\u001b[49m\u001b[43m=\u001b[49m\u001b[38;5;28;43mself\u001b[39;49m\u001b[43m.\u001b[49m\u001b[43moptions\u001b[49m\u001b[43m.\u001b[49m\u001b[43mget\u001b[49m\u001b[43m(\u001b[49m\u001b[33;43m\"\u001b[39;49m\u001b[33;43mcompression\u001b[39;49m\u001b[33;43m\"\u001b[39;49m\u001b[43m,\u001b[49m\u001b[43m \u001b[49m\u001b[38;5;28;43;01mNone\u001b[39;49;00m\u001b[43m)\u001b[49m\u001b[43m,\u001b[49m\n\u001b[32m   1885\u001b[39m \u001b[43m    \u001b[49m\u001b[43mmemory_map\u001b[49m\u001b[43m=\u001b[49m\u001b[38;5;28;43mself\u001b[39;49m\u001b[43m.\u001b[49m\u001b[43moptions\u001b[49m\u001b[43m.\u001b[49m\u001b[43mget\u001b[49m\u001b[43m(\u001b[49m\u001b[33;43m\"\u001b[39;49m\u001b[33;43mmemory_map\u001b[39;49m\u001b[33;43m\"\u001b[39;49m\u001b[43m,\u001b[49m\u001b[43m \u001b[49m\u001b[38;5;28;43;01mFalse\u001b[39;49;00m\u001b[43m)\u001b[49m\u001b[43m,\u001b[49m\n\u001b[32m   1886\u001b[39m \u001b[43m    \u001b[49m\u001b[43mis_text\u001b[49m\u001b[43m=\u001b[49m\u001b[43mis_text\u001b[49m\u001b[43m,\u001b[49m\n\u001b[32m   1887\u001b[39m \u001b[43m    \u001b[49m\u001b[43merrors\u001b[49m\u001b[43m=\u001b[49m\u001b[38;5;28;43mself\u001b[39;49m\u001b[43m.\u001b[49m\u001b[43moptions\u001b[49m\u001b[43m.\u001b[49m\u001b[43mget\u001b[49m\u001b[43m(\u001b[49m\u001b[33;43m\"\u001b[39;49m\u001b[33;43mencoding_errors\u001b[39;49m\u001b[33;43m\"\u001b[39;49m\u001b[43m,\u001b[49m\u001b[43m \u001b[49m\u001b[33;43m\"\u001b[39;49m\u001b[33;43mstrict\u001b[39;49m\u001b[33;43m\"\u001b[39;49m\u001b[43m)\u001b[49m\u001b[43m,\u001b[49m\n\u001b[32m   1888\u001b[39m \u001b[43m    \u001b[49m\u001b[43mstorage_options\u001b[49m\u001b[43m=\u001b[49m\u001b[38;5;28;43mself\u001b[39;49m\u001b[43m.\u001b[49m\u001b[43moptions\u001b[49m\u001b[43m.\u001b[49m\u001b[43mget\u001b[49m\u001b[43m(\u001b[49m\u001b[33;43m\"\u001b[39;49m\u001b[33;43mstorage_options\u001b[39;49m\u001b[33;43m\"\u001b[39;49m\u001b[43m,\u001b[49m\u001b[43m \u001b[49m\u001b[38;5;28;43;01mNone\u001b[39;49;00m\u001b[43m)\u001b[49m\u001b[43m,\u001b[49m\n\u001b[32m   1889\u001b[39m \u001b[43m\u001b[49m\u001b[43m)\u001b[49m\n\u001b[32m   1890\u001b[39m \u001b[38;5;28;01massert\u001b[39;00m \u001b[38;5;28mself\u001b[39m.handles \u001b[38;5;129;01mis\u001b[39;00m \u001b[38;5;129;01mnot\u001b[39;00m \u001b[38;5;28;01mNone\u001b[39;00m\n\u001b[32m   1891\u001b[39m f = \u001b[38;5;28mself\u001b[39m.handles.handle\n",
      "\u001b[36mFile \u001b[39m\u001b[32m~/trader_test/.venv-tf/lib/python3.12/site-packages/pandas/io/common.py:873\u001b[39m, in \u001b[36mget_handle\u001b[39m\u001b[34m(path_or_buf, mode, encoding, compression, memory_map, is_text, errors, storage_options)\u001b[39m\n\u001b[32m    868\u001b[39m \u001b[38;5;28;01melif\u001b[39;00m \u001b[38;5;28misinstance\u001b[39m(handle, \u001b[38;5;28mstr\u001b[39m):\n\u001b[32m    869\u001b[39m     \u001b[38;5;66;03m# Check whether the filename is to be opened in binary mode.\u001b[39;00m\n\u001b[32m    870\u001b[39m     \u001b[38;5;66;03m# Binary mode does not support 'encoding' and 'newline'.\u001b[39;00m\n\u001b[32m    871\u001b[39m     \u001b[38;5;28;01mif\u001b[39;00m ioargs.encoding \u001b[38;5;129;01mand\u001b[39;00m \u001b[33m\"\u001b[39m\u001b[33mb\u001b[39m\u001b[33m\"\u001b[39m \u001b[38;5;129;01mnot\u001b[39;00m \u001b[38;5;129;01min\u001b[39;00m ioargs.mode:\n\u001b[32m    872\u001b[39m         \u001b[38;5;66;03m# Encoding\u001b[39;00m\n\u001b[32m--> \u001b[39m\u001b[32m873\u001b[39m         handle = \u001b[38;5;28;43mopen\u001b[39;49m\u001b[43m(\u001b[49m\n\u001b[32m    874\u001b[39m \u001b[43m            \u001b[49m\u001b[43mhandle\u001b[49m\u001b[43m,\u001b[49m\n\u001b[32m    875\u001b[39m \u001b[43m            \u001b[49m\u001b[43mioargs\u001b[49m\u001b[43m.\u001b[49m\u001b[43mmode\u001b[49m\u001b[43m,\u001b[49m\n\u001b[32m    876\u001b[39m \u001b[43m            \u001b[49m\u001b[43mencoding\u001b[49m\u001b[43m=\u001b[49m\u001b[43mioargs\u001b[49m\u001b[43m.\u001b[49m\u001b[43mencoding\u001b[49m\u001b[43m,\u001b[49m\n\u001b[32m    877\u001b[39m \u001b[43m            \u001b[49m\u001b[43merrors\u001b[49m\u001b[43m=\u001b[49m\u001b[43merrors\u001b[49m\u001b[43m,\u001b[49m\n\u001b[32m    878\u001b[39m \u001b[43m            \u001b[49m\u001b[43mnewline\u001b[49m\u001b[43m=\u001b[49m\u001b[33;43m\"\u001b[39;49m\u001b[33;43m\"\u001b[39;49m\u001b[43m,\u001b[49m\n\u001b[32m    879\u001b[39m \u001b[43m        \u001b[49m\u001b[43m)\u001b[49m\n\u001b[32m    880\u001b[39m     \u001b[38;5;28;01melse\u001b[39;00m:\n\u001b[32m    881\u001b[39m         \u001b[38;5;66;03m# Binary mode\u001b[39;00m\n\u001b[32m    882\u001b[39m         handle = \u001b[38;5;28mopen\u001b[39m(handle, ioargs.mode)\n",
      "\u001b[31mFileNotFoundError\u001b[39m: [Errno 2] No such file or directory: '/content/drive/MyDrive/Colab Notebooks/trader_test/1_data/GAZP_D1_MOEX.csv'"
     ]
    }
   ],
   "source": [
    "import importlib, _core.feature_generator as fg\n",
    "importlib.reload(fg)\n",
    "\n",
    "df = pd.read_csv(\n",
    "    \"/content/drive/MyDrive/Colab Notebooks/trader_test/1_data/GAZP_D1_MOEX.csv\",\n",
    "    parse_dates=[\"datetime\"], index_col=\"datetime\"\n",
    ")\n",
    "\n",
    "feats = fg.create_features(df)\n",
    "print(\"Размер:\", feats.shape)\n",
    "print(\"Количество фич:\", len(feats.columns))\n"
   ]
  },
  {
   "cell_type": "code",
   "execution_count": 14,
   "id": "221qFI3ezSUI",
   "metadata": {
    "colab": {
     "base_uri": "https://localhost:8080/"
    },
    "executionInfo": {
     "elapsed": 42,
     "status": "ok",
     "timestamp": 1757510861500,
     "user": {
      "displayName": "Михаил Львов",
      "userId": "09729415354557860685"
     },
     "user_tz": -180
    },
    "id": "221qFI3ezSUI",
    "outputId": "43dd17e6-3b26-4670-d666-b4e7b82449f0"
   },
   "outputs": [
    {
     "name": "stdout",
     "output_type": "stream",
     "text": [
      "MODULE FILE: /home/restorator/trader_test/_core/feature_generator.py\n",
      "HAS add_all_ta_features CALL: False\n"
     ]
    },
    {
     "data": {
      "text/plain": [
       "<module '_core.feature_generator' from '/home/restorator/trader_test/_core/feature_generator.py'>"
      ]
     },
     "execution_count": 14,
     "metadata": {},
     "output_type": "execute_result"
    }
   ],
   "source": [
    "import importlib, inspect, _core.feature_generator as fg\n",
    "print(\"MODULE FILE:\", fg.__file__)                 # путь к реально импортированному файлу\n",
    "print(\"HAS add_all_ta_features CALL:\",\n",
    "      \"add_all_ta_features\" in inspect.getsource(fg.create_features))  # True/False\n",
    "importlib.reload(fg)  # жёсткий перезагруз\n"
   ]
  },
  {
   "cell_type": "code",
   "execution_count": 13,
   "id": "EwqenOMxwzgd",
   "metadata": {
    "colab": {
     "base_uri": "https://localhost:8080/"
    },
    "executionInfo": {
     "elapsed": 38,
     "status": "ok",
     "timestamp": 1757510402397,
     "user": {
      "displayName": "Михаил Львов",
      "userId": "09729415354557860685"
     },
     "user_tz": -180
    },
    "id": "EwqenOMxwzgd",
    "outputId": "37c06a02-8654-4dd1-9e4b-f7c238070b26"
   },
   "outputs": [
    {
     "ename": "NameError",
     "evalue": "name 'df' is not defined",
     "output_type": "error",
     "traceback": [
      "\u001b[31m---------------------------------------------------------------------------\u001b[39m",
      "\u001b[31mNameError\u001b[39m                                 Traceback (most recent call last)",
      "\u001b[36mCell\u001b[39m\u001b[36m \u001b[39m\u001b[32mIn[13]\u001b[39m\u001b[32m, line 6\u001b[39m\n\u001b[32m      2\u001b[39m \u001b[38;5;28;01mimport\u001b[39;00m\u001b[38;5;250m \u001b[39m\u001b[34;01m_core\u001b[39;00m\u001b[34;01m.\u001b[39;00m\u001b[34;01mfeature_generator\u001b[39;00m\u001b[38;5;250m \u001b[39m\u001b[38;5;28;01mas\u001b[39;00m\u001b[38;5;250m \u001b[39m\u001b[34;01mfg\u001b[39;00m\n\u001b[32m      4\u001b[39m importlib.reload(fg)\n\u001b[32m----> \u001b[39m\u001b[32m6\u001b[39m df = fg.normalize_columns(\u001b[43mdf\u001b[49m)\n\u001b[32m      7\u001b[39m \u001b[38;5;28mprint\u001b[39m(df.columns)\n",
      "\u001b[31mNameError\u001b[39m: name 'df' is not defined"
     ]
    }
   ],
   "source": [
    "import importlib\n",
    "import _core.feature_generator as fg\n",
    "\n",
    "importlib.reload(fg)\n",
    "\n",
    "df = fg.normalize_columns(df)\n",
    "print(df.columns)\n"
   ]
  },
  {
   "cell_type": "code",
   "execution_count": 12,
   "id": "Yt7CXmvZFDaI",
   "metadata": {
    "colab": {
     "base_uri": "https://localhost:8080/"
    },
    "collapsed": true,
    "executionInfo": {
     "elapsed": 166583,
     "status": "ok",
     "timestamp": 1757498783064,
     "user": {
      "displayName": "Михаил Львов",
      "userId": "09729415354557860685"
     },
     "user_tz": -180
    },
    "id": "Yt7CXmvZFDaI",
    "outputId": "47762232-82a1-4322-89b0-329ac9cab1d1"
   },
   "outputs": [
    {
     "name": "stdout",
     "output_type": "stream",
     "text": [
      "WARNING: All log messages before absl::InitializeLog() is called are written to STDERR\n",
      "I0000 00:00:1757613033.773834   41430 port.cc:153] oneDNN custom operations are on. You may see slightly different numerical results due to floating-point round-off errors from different computation orders. To turn them off, set the environment variable `TF_ENABLE_ONEDNN_OPTS=0`.\n",
      "WARNING: All log messages before absl::InitializeLog() is called are written to STDERR\n",
      "I0000 00:00:1757613035.008113   41430 port.cc:153] oneDNN custom operations are on. You may see slightly different numerical results due to floating-point round-off errors from different computation orders. To turn them off, set the environment variable `TF_ENABLE_ONEDNN_OPTS=0`.\n",
      "✅ Окружение и сторонние библиотеки инициализированы.\n",
      "Найдено 258 тикеров для обработки.\n",
      "--- Подготовка данных по индексу IMOEX ---\n",
      "--- Сбор данных для обучения селектора ---\n",
      "Сбор данных:   0%|                                      | 0/258 [00:00<?, ?it/s]\n",
      "Traceback (most recent call last):\n",
      "  File \"/home/restorator/trader_test/.venv-tf/lib/python3.12/site-packages/pandas/core/indexes/base.py\", line 3812, in get_loc\n",
      "    return self._engine.get_loc(casted_key)\n",
      "           ^^^^^^^^^^^^^^^^^^^^^^^^^^^^^^^^\n",
      "  File \"pandas/_libs/index.pyx\", line 167, in pandas._libs.index.IndexEngine.get_loc\n",
      "  File \"pandas/_libs/index.pyx\", line 196, in pandas._libs.index.IndexEngine.get_loc\n",
      "  File \"pandas/_libs/hashtable_class_helper.pxi\", line 7088, in pandas._libs.hashtable.PyObjectHashTable.get_item\n",
      "  File \"pandas/_libs/hashtable_class_helper.pxi\", line 7096, in pandas._libs.hashtable.PyObjectHashTable.get_item\n",
      "KeyError: 'volume'\n",
      "\n",
      "The above exception was the direct cause of the following exception:\n",
      "\n",
      "Traceback (most recent call last):\n",
      "  File \"<frozen runpy>\", line 198, in _run_module_as_main\n",
      "  File \"<frozen runpy>\", line 88, in _run_code\n",
      "  File \"/home/restorator/trader_test/_tools/feature_selector.py\", line 41, in <module>\n",
      "    df_features = create_features(df, index_df=index_df, horizon=CONFIG[\"HORIZON\"])\n",
      "                  ^^^^^^^^^^^^^^^^^^^^^^^^^^^^^^^^^^^^^^^^^^^^^^^^^^^^^^^^^^^^^^^^^\n",
      "  File \"/home/restorator/trader_test/_core/feature_generator.py\", line 106, in create_features\n",
      "    features_df[\"rel_volume\"] = features_df[\"volume\"] / index_df[\"volume\"]\n",
      "                                                        ~~~~~~~~^^^^^^^^^^\n",
      "  File \"/home/restorator/trader_test/.venv-tf/lib/python3.12/site-packages/pandas/core/frame.py\", line 4107, in __getitem__\n",
      "    indexer = self.columns.get_loc(key)\n",
      "              ^^^^^^^^^^^^^^^^^^^^^^^^^\n",
      "  File \"/home/restorator/trader_test/.venv-tf/lib/python3.12/site-packages/pandas/core/indexes/base.py\", line 3819, in get_loc\n",
      "    raise KeyError(key) from err\n",
      "KeyError: 'volume'\n"
     ]
    }
   ],
   "source": [
    "!python -m _tools.feature_selector \\\n",
    "  --model_name \"{MODEL_NAME_LGBM}\" \\\n",
    "  --universe_file \"{UNIVERSE_FILE}\""
   ]
  },
  {
   "cell_type": "code",
   "execution_count": 7,
   "id": "6VFdR6jMFJVb",
   "metadata": {
    "colab": {
     "base_uri": "https://localhost:8080/"
    },
    "executionInfo": {
     "elapsed": 717517,
     "status": "ok",
     "timestamp": 1757499504924,
     "user": {
      "displayName": "Михаил Львов",
      "userId": "09729415354557860685"
     },
     "user_tz": -180
    },
    "id": "6VFdR6jMFJVb",
    "outputId": "4039c1f8-c6a0-4cd9-bc0e-22a5a93d4584"
   },
   "outputs": [
    {
     "name": "stdout",
     "output_type": "stream",
     "text": [
      "2025-09-10 10:06:28.353333: E external/local_xla/xla/stream_executor/cuda/cuda_fft.cc:467] Unable to register cuFFT factory: Attempting to register factory for plugin cuFFT when one has already been registered\n",
      "WARNING: All log messages before absl::InitializeLog() is called are written to STDERR\n",
      "E0000 00:00:1757498788.372183    2814 cuda_dnn.cc:8579] Unable to register cuDNN factory: Attempting to register factory for plugin cuDNN when one has already been registered\n",
      "E0000 00:00:1757498788.378001    2814 cuda_blas.cc:1407] Unable to register cuBLAS factory: Attempting to register factory for plugin cuBLAS when one has already been registered\n",
      "W0000 00:00:1757498788.399288    2814 computation_placer.cc:177] computation placer already registered. Please check linkage and avoid linking the same target more than once.\n",
      "W0000 00:00:1757498788.399320    2814 computation_placer.cc:177] computation placer already registered. Please check linkage and avoid linking the same target more than once.\n",
      "W0000 00:00:1757498788.399324    2814 computation_placer.cc:177] computation placer already registered. Please check linkage and avoid linking the same target more than once.\n",
      "W0000 00:00:1757498788.399328    2814 computation_placer.cc:177] computation placer already registered. Please check linkage and avoid linking the same target more than once.\n",
      "✅ Окружение и сторонние библиотеки инициализированы.\n",
      "--- Этап 0: Подготовка данных по индексу IMOEX ---\n",
      "\n",
      "--- Этап 1: Сбор трейновых данных для селектора ---\n",
      "Сбор данных для селектора: 100% 258/258 [00:18<00:00, 13.68it/s]\n",
      "\n",
      "--- Этап 2: Расчёт OOS Permutation Importance ---\n",
      "[LightGBM] [Info] Number of positive: 20502, number of negative: 53857\n",
      "[LightGBM] [Info] Auto-choosing col-wise multi-threading, the overhead of testing was 0.030456 seconds.\n",
      "You can set `force_col_wise=true` to remove the overhead.\n",
      "[LightGBM] [Info] Total Bins 9489\n",
      "[LightGBM] [Info] Number of data points in the train set: 74359, number of used features: 41\n",
      "[LightGBM] [Info] [binary:BoostFromScore]: pavg=0.275716 -> initscore=-0.965810\n",
      "[LightGBM] [Info] Start training from score -0.965810\n",
      "[LightGBM] [Info] Number of positive: 40236, number of negative: 108499\n",
      "[LightGBM] [Info] Auto-choosing row-wise multi-threading, the overhead of testing was 0.017587 seconds.\n",
      "You can set `force_row_wise=true` to remove the overhead.\n",
      "And if memory is not enough, you can set `force_col_wise=true`.\n",
      "[LightGBM] [Info] Total Bins 9489\n",
      "[LightGBM] [Info] Number of data points in the train set: 148735, number of used features: 41\n",
      "[LightGBM] [Info] [binary:BoostFromScore]: pavg=0.270521 -> initscore=-0.991979\n",
      "[LightGBM] [Info] Start training from score -0.991979\n",
      "[LightGBM] [Info] Number of positive: 60741, number of negative: 162370\n",
      "[LightGBM] [Info] Auto-choosing row-wise multi-threading, the overhead of testing was 0.026671 seconds.\n",
      "You can set `force_row_wise=true` to remove the overhead.\n",
      "And if memory is not enough, you can set `force_col_wise=true`.\n",
      "[LightGBM] [Info] Total Bins 9489\n",
      "[LightGBM] [Info] Number of data points in the train set: 223111, number of used features: 41\n",
      "[LightGBM] [Info] [binary:BoostFromScore]: pavg=0.272246 -> initscore=-0.983259\n",
      "[LightGBM] [Info] Start training from score -0.983259\n",
      "[LightGBM] [Info] Number of positive: 82181, number of negative: 215306\n",
      "[LightGBM] [Info] Auto-choosing row-wise multi-threading, the overhead of testing was 0.033787 seconds.\n",
      "You can set `force_row_wise=true` to remove the overhead.\n",
      "And if memory is not enough, you can set `force_col_wise=true`.\n",
      "[LightGBM] [Info] Total Bins 9489\n",
      "[LightGBM] [Info] Number of data points in the train set: 297487, number of used features: 41\n",
      "[LightGBM] [Info] [binary:BoostFromScore]: pavg=0.276251 -> initscore=-0.963136\n",
      "[LightGBM] [Info] Start training from score -0.963136\n",
      "[LightGBM] [Info] Number of positive: 103477, number of negative: 268386\n",
      "[LightGBM] [Info] Auto-choosing col-wise multi-threading, the overhead of testing was 0.159588 seconds.\n",
      "You can set `force_col_wise=true` to remove the overhead.\n",
      "[LightGBM] [Info] Total Bins 9489\n",
      "[LightGBM] [Info] Number of data points in the train set: 371863, number of used features: 41\n",
      "[LightGBM] [Info] [binary:BoostFromScore]: pavg=0.278266 -> initscore=-0.953077\n",
      "[LightGBM] [Info] Start training from score -0.953077\n",
      "\n",
      "--- Этап 3: Корреляционный фильтр ---\n",
      "\n",
      "✅ Список из 25 признаков сохранён в: /content/drive/MyDrive/Colab Notebooks/trader_test/2_results/selected_features_universal_v3.0_60_20_perm.json\n",
      "📄 Полный отчёт по важностям сохранён: /content/drive/MyDrive/Colab Notebooks/trader_test/2_results/perm_importance_universal_v3.0_60_20_perm.csv\n",
      "\n",
      "--- Топ признаков ---\n",
      "       feature\n",
      "         month\n",
      "      key_rate\n",
      "        rsi_50\n",
      "        roc_20\n",
      "      atr_norm\n",
      "       roc_200\n",
      "           obv\n",
      "       roc_100\n",
      "volatility_100\n",
      "        roc_50\n",
      "        adx_14\n",
      " volatility_20\n",
      "        roc_10\n",
      "     macd_hist\n",
      "      bb_width\n",
      " volatility_60\n",
      "        sma_20\n",
      "        rsi_20\n",
      "           vol\n",
      "        cmf_20\n",
      "  relative_vol\n",
      "       rsi_200\n",
      "   macd_signal\n",
      "       rsi_100\n",
      "        mfi_14\n"
     ]
    }
   ],
   "source": [
    "!python -m _tools.feature_selector_perm \\\n",
    "  --model_name \"{MODEL_NAME_PERM}\" \\\n",
    "  --universe_file \"{UNIVERSE_FILE}\" \\\n",
    "  --top_n 25 \\\n",
    "  --n_splits 5 \\\n",
    "  --purge_gap 20 \\\n",
    "  --repeats 10 \\\n",
    "  --corr_threshold 0.9 \\\n",
    "  --boots 1 \\\n",
    "  --bootstrap_frac 1.0"
   ]
  },
  {
   "cell_type": "code",
   "execution_count": 8,
   "id": "rSdIHFiQFLZR",
   "metadata": {
    "colab": {
     "base_uri": "https://localhost:8080/"
    },
    "executionInfo": {
     "elapsed": 16120,
     "status": "ok",
     "timestamp": 1757500844245,
     "user": {
      "displayName": "Михаил Львов",
      "userId": "09729415354557860685"
     },
     "user_tz": -180
    },
    "id": "rSdIHFiQFLZR",
    "outputId": "0e5d8a2f-4859-47f0-b65a-289bd1902d35"
   },
   "outputs": [
    {
     "name": "stdout",
     "output_type": "stream",
     "text": [
      "2025-09-10 10:40:30.170699: E external/local_xla/xla/stream_executor/cuda/cuda_fft.cc:467] Unable to register cuFFT factory: Attempting to register factory for plugin cuFFT when one has already been registered\n",
      "WARNING: All log messages before absl::InitializeLog() is called are written to STDERR\n",
      "E0000 00:00:1757500830.189733   11528 cuda_dnn.cc:8579] Unable to register cuDNN factory: Attempting to register factory for plugin cuDNN when one has already been registered\n",
      "E0000 00:00:1757500830.195669   11528 cuda_blas.cc:1407] Unable to register cuBLAS factory: Attempting to register factory for plugin cuBLAS when one has already been registered\n",
      "W0000 00:00:1757500830.210594   11528 computation_placer.cc:177] computation placer already registered. Please check linkage and avoid linking the same target more than once.\n",
      "W0000 00:00:1757500830.210625   11528 computation_placer.cc:177] computation placer already registered. Please check linkage and avoid linking the same target more than once.\n",
      "W0000 00:00:1757500830.210629   11528 computation_placer.cc:177] computation placer already registered. Please check linkage and avoid linking the same target more than once.\n",
      "W0000 00:00:1757500830.210633   11528 computation_placer.cc:177] computation placer already registered. Please check linkage and avoid linking the same target more than once.\n",
      "✅ Окружение и сторонние библиотеки инициализированы.\n",
      "\n",
      "--- Построение корр.матрицы для фильтрации ---\n",
      "Сбор данных для корр-матрицы: 100% 60/60 [00:04<00:00, 12.65it/s]\n",
      "\n",
      "✅ Гибридный список из 25 фич сохранён: /content/drive/MyDrive/Colab Notebooks/trader_test/2_results/selected_features_universal_v3.0_60_20_hybrid.json\n",
      "📄 Отчёт по агрегированным рангам сохранён: /content/drive/MyDrive/Colab Notebooks/trader_test/2_results/hybrid_rank_universal_v3.0_60_20_hybrid.csv\n"
     ]
    }
   ],
   "source": [
    "!python -m _tools.feature_selector_hybrid \\\n",
    "  --model_name_a \"{MODEL_NAME_LGBM}\" \\\n",
    "  --model_name_b \"{MODEL_NAME_PERM}\" \\\n",
    "  --out_model_name \"{MODEL_NAME_HYBRID}\" \\\n",
    "  --universe_file \"{UNIVERSE_FILE}\" \\\n",
    "  --top_n 25"
   ]
  },
  {
   "cell_type": "code",
   "execution_count": 16,
   "id": "Lifz3_83QzGI",
   "metadata": {
    "colab": {
     "base_uri": "https://localhost:8080/"
    },
    "executionInfo": {
     "elapsed": 24,
     "status": "ok",
     "timestamp": 1757502275311,
     "user": {
      "displayName": "Михаил Львов",
      "userId": "09729415354557860685"
     },
     "user_tz": -180
    },
    "id": "Lifz3_83QzGI",
    "outputId": "c5ad3e8c-baaa-421f-f1ca-5649a2ba1597"
   },
   "outputs": [
    {
     "name": "stdout",
     "output_type": "stream",
     "text": [
      "✅ 25 фич • 2_results/selected_features_universal_v3.0_60_20_hybrid.json\n"
     ]
    }
   ],
   "source": [
    "MODEL_BASE = \"universal_v3.0_60_20\"          # базовое имя версии\n",
    "MODEL_NAME = f\"{MODEL_BASE}_hybrid\"          # работаем с гибридным списком фич\n",
    "UNIVERSE_FILE = \"universe.csv\"               # корневой путь к файлу с тикерами\n",
    "\n",
    "# быстрый чек наличия списка фич\n",
    "import os, json\n",
    "feat_path = os.path.join(\"2_results\", f\"selected_features_{MODEL_NAME}.json\")\n",
    "assert os.path.exists(feat_path), f\"Не найден список фич: {feat_path}\"\n",
    "with open(feat_path) as f:\n",
    "    feats = json.load(f)\n",
    "print(f\"✅ {len(feats)} фич • {feat_path}\")"
   ]
  },
  {
   "cell_type": "code",
   "execution_count": null,
   "id": "3744e7fe",
   "metadata": {
    "id": "3744e7fe"
   },
   "outputs": [],
   "source": [
    "!python -m _tools.convert_to_tfrecord \\\n",
    "  --input_model_name \"{MODEL_NAME}\" \\\n",
    "  --output_model_name \"{MODEL_NAME}\" \\\n",
    "  --universe_file \"{UNIVERSE_FILE}\""
   ]
  },
  {
   "cell_type": "code",
   "execution_count": 17,
   "id": "04c0a2c1",
   "metadata": {
    "colab": {
     "base_uri": "https://localhost:8080/"
    },
    "executionInfo": {
     "elapsed": 5592189,
     "status": "ok",
     "timestamp": 1757507869592,
     "user": {
      "displayName": "Михаил Львов",
      "userId": "09729415354557860685"
     },
     "user_tz": -180
    },
    "id": "04c0a2c1",
    "outputId": "dc9a92a5-770a-4561-8674-050250f6f853"
   },
   "outputs": [
    {
     "name": "stdout",
     "output_type": "stream",
     "text": [
      "2025-09-10 11:04:37.488671: E external/local_xla/xla/stream_executor/cuda/cuda_fft.cc:467] Unable to register cuFFT factory: Attempting to register factory for plugin cuFFT when one has already been registered\n",
      "WARNING: All log messages before absl::InitializeLog() is called are written to STDERR\n",
      "E0000 00:00:1757502277.507834   17634 cuda_dnn.cc:8579] Unable to register cuDNN factory: Attempting to register factory for plugin cuDNN when one has already been registered\n",
      "E0000 00:00:1757502277.513341   17634 cuda_blas.cc:1407] Unable to register cuBLAS factory: Attempting to register factory for plugin cuBLAS when one has already been registered\n",
      "W0000 00:00:1757502277.527771   17634 computation_placer.cc:177] computation placer already registered. Please check linkage and avoid linking the same target more than once.\n",
      "W0000 00:00:1757502277.527798   17634 computation_placer.cc:177] computation placer already registered. Please check linkage and avoid linking the same target more than once.\n",
      "W0000 00:00:1757502277.527802   17634 computation_placer.cc:177] computation placer already registered. Please check linkage and avoid linking the same target more than once.\n",
      "W0000 00:00:1757502277.527882   17634 computation_placer.cc:177] computation placer already registered. Please check linkage and avoid linking the same target more than once.\n",
      "✅ Окружение и сторонние библиотеки инициализированы.\n",
      "I0000 00:00:1757502283.768061   17634 gpu_device.cc:2019] Created device /job:localhost/replica:0/task:0/device:GPU:0 with 13942 MB memory:  -> device: 0, name: Tesla T4, pci bus id: 0000:00:04.0, compute capability: 7.5\n",
      "\\n==================== ЗАПУСК ОБУЧЕНИЯ #1/30 ДЛЯ 'universal_v3.0_60_20_hybrid' ====================\n",
      "Epoch 1/100\n",
      "I0000 00:00:1757502290.911960   17679 cuda_dnn.cc:529] Loaded cuDNN version 91002\n",
      "\u001b[1m53/53\u001b[0m \u001b[32m━━━━━━━━━━━━━━━━━━━━\u001b[0m\u001b[37m\u001b[0m \u001b[1m39s\u001b[0m 614ms/step - accuracy: 0.7143 - loss: 0.8796 - val_accuracy: 0.7145 - val_loss: 0.7551\n",
      "Epoch 2/100\n",
      "\u001b[1m53/53\u001b[0m \u001b[32m━━━━━━━━━━━━━━━━━━━━\u001b[0m\u001b[37m\u001b[0m \u001b[1m41s\u001b[0m 779ms/step - accuracy: 0.7269 - loss: 0.6892 - val_accuracy: 0.7161 - val_loss: 0.6786\n",
      "Epoch 3/100\n",
      "\u001b[1m53/53\u001b[0m \u001b[32m━━━━━━━━━━━━━━━━━━━━\u001b[0m\u001b[37m\u001b[0m \u001b[1m32s\u001b[0m 615ms/step - accuracy: 0.7298 - loss: 0.6270 - val_accuracy: 0.7157 - val_loss: 0.6407\n",
      "Epoch 4/100\n",
      "\u001b[1m53/53\u001b[0m \u001b[32m━━━━━━━━━━━━━━━━━━━━\u001b[0m\u001b[37m\u001b[0m \u001b[1m40s\u001b[0m 755ms/step - accuracy: 0.7313 - loss: 0.6012 - val_accuracy: 0.7214 - val_loss: 0.6293\n",
      "Epoch 5/100\n",
      "\u001b[1m53/53\u001b[0m \u001b[32m━━━━━━━━━━━━━━━━━━━━\u001b[0m\u001b[37m\u001b[0m \u001b[1m41s\u001b[0m 782ms/step - accuracy: 0.7366 - loss: 0.5859 - val_accuracy: 0.7281 - val_loss: 0.6005\n",
      "Epoch 6/100\n",
      "\u001b[1m53/53\u001b[0m \u001b[32m━━━━━━━━━━━━━━━━━━━━\u001b[0m\u001b[37m\u001b[0m \u001b[1m41s\u001b[0m 779ms/step - accuracy: 0.7370 - loss: 0.5782 - val_accuracy: 0.7181 - val_loss: 0.6159\n",
      "Epoch 7/100\n",
      "\u001b[1m53/53\u001b[0m \u001b[32m━━━━━━━━━━━━━━━━━━━━\u001b[0m\u001b[37m\u001b[0m \u001b[1m41s\u001b[0m 778ms/step - accuracy: 0.7402 - loss: 0.5710 - val_accuracy: 0.7292 - val_loss: 0.5909\n",
      "Epoch 8/100\n",
      "\u001b[1m53/53\u001b[0m \u001b[32m━━━━━━━━━━━━━━━━━━━━\u001b[0m\u001b[37m\u001b[0m \u001b[1m41s\u001b[0m 780ms/step - accuracy: 0.7439 - loss: 0.5653 - val_accuracy: 0.7144 - val_loss: 0.6217\n",
      "Epoch 9/100\n",
      "\u001b[1m53/53\u001b[0m \u001b[32m━━━━━━━━━━━━━━━━━━━━\u001b[0m\u001b[37m\u001b[0m \u001b[1m41s\u001b[0m 781ms/step - accuracy: 0.7438 - loss: 0.5621 - val_accuracy: 0.7292 - val_loss: 0.6092\n",
      "Epoch 10/100\n",
      "\u001b[1m53/53\u001b[0m \u001b[32m━━━━━━━━━━━━━━━━━━━━\u001b[0m\u001b[37m\u001b[0m \u001b[1m41s\u001b[0m 783ms/step - accuracy: 0.7468 - loss: 0.5551 - val_accuracy: 0.7196 - val_loss: 0.6122\n",
      "Epoch 11/100\n",
      "\u001b[1m53/53\u001b[0m \u001b[32m━━━━━━━━━━━━━━━━━━━━\u001b[0m\u001b[37m\u001b[0m \u001b[1m26s\u001b[0m 488ms/step - accuracy: 0.7488 - loss: 0.5515 - val_accuracy: 0.7436 - val_loss: 0.6018\n",
      "Epoch 12/100\n",
      "\u001b[1m53/53\u001b[0m \u001b[32m━━━━━━━━━━━━━━━━━━━━\u001b[0m\u001b[37m\u001b[0m \u001b[1m40s\u001b[0m 758ms/step - accuracy: 0.7507 - loss: 0.5471 - val_accuracy: 0.7153 - val_loss: 0.6300\n",
      "Epoch 13/100\n",
      "\u001b[1m53/53\u001b[0m \u001b[32m━━━━━━━━━━━━━━━━━━━━\u001b[0m\u001b[37m\u001b[0m \u001b[1m41s\u001b[0m 781ms/step - accuracy: 0.7518 - loss: 0.5427 - val_accuracy: 0.7196 - val_loss: 0.6302\n",
      "Epoch 14/100\n",
      "\u001b[1m53/53\u001b[0m \u001b[32m━━━━━━━━━━━━━━━━━━━━\u001b[0m\u001b[37m\u001b[0m \u001b[1m41s\u001b[0m 779ms/step - accuracy: 0.7541 - loss: 0.5406 - val_accuracy: 0.7230 - val_loss: 0.6388\n",
      "Epoch 15/100\n",
      "\u001b[1m53/53\u001b[0m \u001b[32m━━━━━━━━━━━━━━━━━━━━\u001b[0m\u001b[37m\u001b[0m \u001b[1m41s\u001b[0m 786ms/step - accuracy: 0.7552 - loss: 0.5376 - val_accuracy: 0.7118 - val_loss: 0.6533\n",
      "Epoch 16/100\n",
      "\u001b[1m53/53\u001b[0m \u001b[32m━━━━━━━━━━━━━━━━━━━━\u001b[0m\u001b[37m\u001b[0m \u001b[1m41s\u001b[0m 783ms/step - accuracy: 0.7588 - loss: 0.5313 - val_accuracy: 0.7202 - val_loss: 0.6360\n",
      "Epoch 17/100\n",
      "\u001b[1m53/53\u001b[0m \u001b[32m━━━━━━━━━━━━━━━━━━━━\u001b[0m\u001b[37m\u001b[0m \u001b[1m26s\u001b[0m 500ms/step - accuracy: 0.7635 - loss: 0.5255 - val_accuracy: 0.7136 - val_loss: 0.6529\n",
      "Epoch 18/100\n",
      "\u001b[1m53/53\u001b[0m \u001b[32m━━━━━━━━━━━━━━━━━━━━\u001b[0m\u001b[37m\u001b[0m \u001b[1m39s\u001b[0m 747ms/step - accuracy: 0.7678 - loss: 0.5212 - val_accuracy: 0.7148 - val_loss: 0.6574\n",
      "Epoch 19/100\n",
      "\u001b[1m53/53\u001b[0m \u001b[32m━━━━━━━━━━━━━━━━━━━━\u001b[0m\u001b[37m\u001b[0m \u001b[1m41s\u001b[0m 776ms/step - accuracy: 0.7700 - loss: 0.5171 - val_accuracy: 0.7149 - val_loss: 0.6582\n",
      "Epoch 19: early stopping\n",
      "Restoring model weights from the end of the best epoch: 11.\n",
      "✅ Новый лучший результат: 74.36%\n",
      "✅ Модель сохранена в: /content/drive/MyDrive/Colab Notebooks/trader_test/2_results/model_universal_v3.0_60_20_hybrid.keras\n",
      "\\n==================== ЗАПУСК ОБУЧЕНИЯ #2/30 ДЛЯ 'universal_v3.0_60_20_hybrid' ====================\n",
      "Epoch 1/100\n",
      "\u001b[1m53/53\u001b[0m \u001b[32m━━━━━━━━━━━━━━━━━━━━\u001b[0m\u001b[37m\u001b[0m \u001b[1m39s\u001b[0m 655ms/step - accuracy: 0.7032 - loss: 0.8834 - val_accuracy: 0.7145 - val_loss: 0.7420\n",
      "Epoch 2/100\n",
      "\u001b[1m53/53\u001b[0m \u001b[32m━━━━━━━━━━━━━━━━━━━━\u001b[0m\u001b[37m\u001b[0m \u001b[1m41s\u001b[0m 777ms/step - accuracy: 0.7279 - loss: 0.6839 - val_accuracy: 0.7156 - val_loss: 0.6709\n",
      "Epoch 3/100\n",
      "\u001b[1m53/53\u001b[0m \u001b[32m━━━━━━━━━━━━━━━━━━━━\u001b[0m\u001b[37m\u001b[0m \u001b[1m41s\u001b[0m 787ms/step - accuracy: 0.7292 - loss: 0.6228 - val_accuracy: 0.7198 - val_loss: 0.6414\n",
      "Epoch 4/100\n",
      "\u001b[1m53/53\u001b[0m \u001b[32m━━━━━━━━━━━━━━━━━━━━\u001b[0m\u001b[37m\u001b[0m \u001b[1m41s\u001b[0m 781ms/step - accuracy: 0.7339 - loss: 0.5951 - val_accuracy: 0.7193 - val_loss: 0.6261\n",
      "Epoch 5/100\n",
      "\u001b[1m53/53\u001b[0m \u001b[32m━━━━━━━━━━━━━━━━━━━━\u001b[0m\u001b[37m\u001b[0m \u001b[1m42s\u001b[0m 791ms/step - accuracy: 0.7355 - loss: 0.5817 - val_accuracy: 0.7267 - val_loss: 0.6264\n",
      "Epoch 6/100\n",
      "\u001b[1m53/53\u001b[0m \u001b[32m━━━━━━━━━━━━━━━━━━━━\u001b[0m\u001b[37m\u001b[0m \u001b[1m41s\u001b[0m 772ms/step - accuracy: 0.7384 - loss: 0.5728 - val_accuracy: 0.7220 - val_loss: 0.6125\n",
      "Epoch 7/100\n",
      "\u001b[1m53/53\u001b[0m \u001b[32m━━━━━━━━━━━━━━━━━━━━\u001b[0m\u001b[37m\u001b[0m \u001b[1m40s\u001b[0m 767ms/step - accuracy: 0.7402 - loss: 0.5696 - val_accuracy: 0.7304 - val_loss: 0.6014\n",
      "Epoch 8/100\n",
      "\u001b[1m53/53\u001b[0m \u001b[32m━━━━━━━━━━━━━━━━━━━━\u001b[0m\u001b[37m\u001b[0m \u001b[1m41s\u001b[0m 778ms/step - accuracy: 0.7423 - loss: 0.5620 - val_accuracy: 0.7301 - val_loss: 0.6130\n",
      "Epoch 9/100\n",
      "\u001b[1m53/53\u001b[0m \u001b[32m━━━━━━━━━━━━━━━━━━━━\u001b[0m\u001b[37m\u001b[0m \u001b[1m41s\u001b[0m 781ms/step - accuracy: 0.7435 - loss: 0.5579 - val_accuracy: 0.7291 - val_loss: 0.6147\n",
      "Epoch 10/100\n",
      "\u001b[1m53/53\u001b[0m \u001b[32m━━━━━━━━━━━━━━━━━━━━\u001b[0m\u001b[37m\u001b[0m \u001b[1m41s\u001b[0m 780ms/step - accuracy: 0.7465 - loss: 0.5547 - val_accuracy: 0.7254 - val_loss: 0.6259\n",
      "Epoch 11/100\n",
      "\u001b[1m53/53\u001b[0m \u001b[32m━━━━━━━━━━━━━━━━━━━━\u001b[0m\u001b[37m\u001b[0m \u001b[1m41s\u001b[0m 781ms/step - accuracy: 0.7497 - loss: 0.5494 - val_accuracy: 0.7393 - val_loss: 0.5965\n",
      "Epoch 12/100\n",
      "\u001b[1m53/53\u001b[0m \u001b[32m━━━━━━━━━━━━━━━━━━━━\u001b[0m\u001b[37m\u001b[0m \u001b[1m41s\u001b[0m 781ms/step - accuracy: 0.7531 - loss: 0.5425 - val_accuracy: 0.7303 - val_loss: 0.6238\n",
      "Epoch 13/100\n",
      "\u001b[1m53/53\u001b[0m \u001b[32m━━━━━━━━━━━━━━━━━━━━\u001b[0m\u001b[37m\u001b[0m \u001b[1m41s\u001b[0m 783ms/step - accuracy: 0.7528 - loss: 0.5403 - val_accuracy: 0.7278 - val_loss: 0.6175\n",
      "Epoch 14/100\n",
      "\u001b[1m53/53\u001b[0m \u001b[32m━━━━━━━━━━━━━━━━━━━━\u001b[0m\u001b[37m\u001b[0m \u001b[1m41s\u001b[0m 785ms/step - accuracy: 0.7538 - loss: 0.5387 - val_accuracy: 0.7269 - val_loss: 0.6230\n",
      "Epoch 15/100\n",
      "\u001b[1m53/53\u001b[0m \u001b[32m━━━━━━━━━━━━━━━━━━━━\u001b[0m\u001b[37m\u001b[0m \u001b[1m41s\u001b[0m 780ms/step - accuracy: 0.7566 - loss: 0.5359 - val_accuracy: 0.7247 - val_loss: 0.6420\n",
      "Epoch 16/100\n",
      "\u001b[1m53/53\u001b[0m \u001b[32m━━━━━━━━━━━━━━━━━━━━\u001b[0m\u001b[37m\u001b[0m \u001b[1m28s\u001b[0m 535ms/step - accuracy: 0.7603 - loss: 0.5312 - val_accuracy: 0.7284 - val_loss: 0.6339\n",
      "Epoch 17/100\n",
      "\u001b[1m53/53\u001b[0m \u001b[32m━━━━━━━━━━━━━━━━━━━━\u001b[0m\u001b[37m\u001b[0m \u001b[1m39s\u001b[0m 743ms/step - accuracy: 0.7621 - loss: 0.5258 - val_accuracy: 0.7326 - val_loss: 0.6233\n",
      "Epoch 18/100\n",
      "\u001b[1m53/53\u001b[0m \u001b[32m━━━━━━━━━━━━━━━━━━━━\u001b[0m\u001b[37m\u001b[0m \u001b[1m41s\u001b[0m 788ms/step - accuracy: 0.7665 - loss: 0.5220 - val_accuracy: 0.7328 - val_loss: 0.6488\n",
      "Epoch 19/100\n",
      "\u001b[1m53/53\u001b[0m \u001b[32m━━━━━━━━━━━━━━━━━━━━\u001b[0m\u001b[37m\u001b[0m \u001b[1m40s\u001b[0m 769ms/step - accuracy: 0.7659 - loss: 0.5231 - val_accuracy: 0.7308 - val_loss: 0.6416\n",
      "Epoch 19: early stopping\n",
      "Restoring model weights from the end of the best epoch: 11.\n",
      "\\n==================== ЗАПУСК ОБУЧЕНИЯ #3/30 ДЛЯ 'universal_v3.0_60_20_hybrid' ====================\n",
      "Epoch 1/100\n",
      "\u001b[1m53/53\u001b[0m \u001b[32m━━━━━━━━━━━━━━━━━━━━\u001b[0m\u001b[37m\u001b[0m \u001b[1m35s\u001b[0m 608ms/step - accuracy: 0.7065 - loss: 0.8833 - val_accuracy: 0.7145 - val_loss: 0.7343\n",
      "Epoch 2/100\n",
      "\u001b[1m53/53\u001b[0m \u001b[32m━━━━━━━━━━━━━━━━━━━━\u001b[0m\u001b[37m\u001b[0m \u001b[1m41s\u001b[0m 777ms/step - accuracy: 0.7267 - loss: 0.6816 - val_accuracy: 0.7147 - val_loss: 0.6696\n",
      "Epoch 3/100\n",
      "\u001b[1m53/53\u001b[0m \u001b[32m━━━━━━━━━━━━━━━━━━━━\u001b[0m\u001b[37m\u001b[0m \u001b[1m41s\u001b[0m 786ms/step - accuracy: 0.7302 - loss: 0.6209 - val_accuracy: 0.7231 - val_loss: 0.6354\n",
      "Epoch 4/100\n",
      "\u001b[1m53/53\u001b[0m \u001b[32m━━━━━━━━━━━━━━━━━━━━\u001b[0m\u001b[37m\u001b[0m \u001b[1m41s\u001b[0m 780ms/step - accuracy: 0.7322 - loss: 0.5957 - val_accuracy: 0.7216 - val_loss: 0.6278\n",
      "Epoch 5/100\n",
      "\u001b[1m53/53\u001b[0m \u001b[32m━━━━━━━━━━━━━━━━━━━━\u001b[0m\u001b[37m\u001b[0m \u001b[1m41s\u001b[0m 776ms/step - accuracy: 0.7341 - loss: 0.5833 - val_accuracy: 0.7285 - val_loss: 0.6143\n",
      "Epoch 6/100\n",
      "\u001b[1m53/53\u001b[0m \u001b[32m━━━━━━━━━━━━━━━━━━━━\u001b[0m\u001b[37m\u001b[0m \u001b[1m41s\u001b[0m 772ms/step - accuracy: 0.7372 - loss: 0.5734 - val_accuracy: 0.7378 - val_loss: 0.5990\n",
      "Epoch 7/100\n",
      "\u001b[1m53/53\u001b[0m \u001b[32m━━━━━━━━━━━━━━━━━━━━\u001b[0m\u001b[37m\u001b[0m \u001b[1m41s\u001b[0m 777ms/step - accuracy: 0.7400 - loss: 0.5682 - val_accuracy: 0.7226 - val_loss: 0.6029\n",
      "Epoch 8/100\n",
      "\u001b[1m53/53\u001b[0m \u001b[32m━━━━━━━━━━━━━━━━━━━━\u001b[0m\u001b[37m\u001b[0m \u001b[1m25s\u001b[0m 483ms/step - accuracy: 0.7406 - loss: 0.5649 - val_accuracy: 0.7437 - val_loss: 0.5904\n",
      "Epoch 9/100\n",
      "\u001b[1m53/53\u001b[0m \u001b[32m━━━━━━━━━━━━━━━━━━━━\u001b[0m\u001b[37m\u001b[0m \u001b[1m40s\u001b[0m 761ms/step - accuracy: 0.7440 - loss: 0.5606 - val_accuracy: 0.7450 - val_loss: 0.5845\n",
      "Epoch 10/100\n",
      "\u001b[1m53/53\u001b[0m \u001b[32m━━━━━━━━━━━━━━━━━━━━\u001b[0m\u001b[37m\u001b[0m \u001b[1m25s\u001b[0m 479ms/step - accuracy: 0.7461 - loss: 0.5569 - val_accuracy: 0.7365 - val_loss: 0.5867\n",
      "Epoch 11/100\n",
      "\u001b[1m53/53\u001b[0m \u001b[32m━━━━━━━━━━━━━━━━━━━━\u001b[0m\u001b[37m\u001b[0m \u001b[1m40s\u001b[0m 761ms/step - accuracy: 0.7473 - loss: 0.5525 - val_accuracy: 0.7424 - val_loss: 0.5896\n",
      "Epoch 12/100\n",
      "\u001b[1m53/53\u001b[0m \u001b[32m━━━━━━━━━━━━━━━━━━━━\u001b[0m\u001b[37m\u001b[0m \u001b[1m27s\u001b[0m 505ms/step - accuracy: 0.7508 - loss: 0.5485 - val_accuracy: 0.7273 - val_loss: 0.5963\n",
      "Epoch 13/100\n",
      "\u001b[1m53/53\u001b[0m \u001b[32m━━━━━━━━━━━━━━━━━━━━\u001b[0m\u001b[37m\u001b[0m \u001b[1m41s\u001b[0m 773ms/step - accuracy: 0.7505 - loss: 0.5470 - val_accuracy: 0.7252 - val_loss: 0.6071\n",
      "Epoch 14/100\n",
      "\u001b[1m53/53\u001b[0m \u001b[32m━━━━━━━━━━━━━━━━━━━━\u001b[0m\u001b[37m\u001b[0m \u001b[1m41s\u001b[0m 772ms/step - accuracy: 0.7513 - loss: 0.5452 - val_accuracy: 0.7364 - val_loss: 0.6002\n",
      "Epoch 15/100\n",
      "\u001b[1m53/53\u001b[0m \u001b[32m━━━━━━━━━━━━━━━━━━━━\u001b[0m\u001b[37m\u001b[0m \u001b[1m41s\u001b[0m 777ms/step - accuracy: 0.7541 - loss: 0.5413 - val_accuracy: 0.7238 - val_loss: 0.6249\n",
      "Epoch 16/100\n",
      "\u001b[1m53/53\u001b[0m \u001b[32m━━━━━━━━━━━━━━━━━━━━\u001b[0m\u001b[37m\u001b[0m \u001b[1m25s\u001b[0m 479ms/step - accuracy: 0.7572 - loss: 0.5373 - val_accuracy: 0.7150 - val_loss: 0.6559\n",
      "Epoch 17/100\n",
      "\u001b[1m53/53\u001b[0m \u001b[32m━━━━━━━━━━━━━━━━━━━━\u001b[0m\u001b[37m\u001b[0m \u001b[1m40s\u001b[0m 764ms/step - accuracy: 0.7604 - loss: 0.5314 - val_accuracy: 0.7299 - val_loss: 0.6181\n",
      "Epoch 17: early stopping\n",
      "Restoring model weights from the end of the best epoch: 9.\n",
      "✅ Новый лучший результат: 74.50%\n",
      "✅ Модель сохранена в: /content/drive/MyDrive/Colab Notebooks/trader_test/2_results/model_universal_v3.0_60_20_hybrid.keras\n",
      "\\n==================== ЗАПУСК ОБУЧЕНИЯ #4/30 ДЛЯ 'universal_v3.0_60_20_hybrid' ====================\n",
      "Epoch 1/100\n",
      "\u001b[1m53/53\u001b[0m \u001b[32m━━━━━━━━━━━━━━━━━━━━\u001b[0m\u001b[37m\u001b[0m \u001b[1m38s\u001b[0m 635ms/step - accuracy: 0.6851 - loss: 0.8896 - val_accuracy: 0.7146 - val_loss: 0.7419\n",
      "Epoch 2/100\n",
      "\u001b[1m53/53\u001b[0m \u001b[32m━━━━━━━━━━━━━━━━━━━━\u001b[0m\u001b[37m\u001b[0m \u001b[1m41s\u001b[0m 782ms/step - accuracy: 0.7277 - loss: 0.6880 - val_accuracy: 0.7190 - val_loss: 0.6634\n",
      "Epoch 3/100\n",
      "\u001b[1m53/53\u001b[0m \u001b[32m━━━━━━━━━━━━━━━━━━━━\u001b[0m\u001b[37m\u001b[0m \u001b[1m41s\u001b[0m 782ms/step - accuracy: 0.7302 - loss: 0.6252 - val_accuracy: 0.7226 - val_loss: 0.6358\n",
      "Epoch 4/100\n",
      "\u001b[1m53/53\u001b[0m \u001b[32m━━━━━━━━━━━━━━━━━━━━\u001b[0m\u001b[37m\u001b[0m \u001b[1m31s\u001b[0m 597ms/step - accuracy: 0.7331 - loss: 0.5989 - val_accuracy: 0.7270 - val_loss: 0.6115\n",
      "Epoch 5/100\n",
      "\u001b[1m53/53\u001b[0m \u001b[32m━━━━━━━━━━━━━━━━━━━━\u001b[0m\u001b[37m\u001b[0m \u001b[1m34s\u001b[0m 637ms/step - accuracy: 0.7376 - loss: 0.5845 - val_accuracy: 0.7410 - val_loss: 0.5989\n",
      "Epoch 6/100\n",
      "\u001b[1m53/53\u001b[0m \u001b[32m━━━━━━━━━━━━━━━━━━━━\u001b[0m\u001b[37m\u001b[0m \u001b[1m34s\u001b[0m 646ms/step - accuracy: 0.7377 - loss: 0.5760 - val_accuracy: 0.7408 - val_loss: 0.5987\n",
      "Epoch 7/100\n",
      "\u001b[1m53/53\u001b[0m \u001b[32m━━━━━━━━━━━━━━━━━━━━\u001b[0m\u001b[37m\u001b[0m \u001b[1m40s\u001b[0m 757ms/step - accuracy: 0.7389 - loss: 0.5725 - val_accuracy: 0.7289 - val_loss: 0.6186\n",
      "Epoch 8/100\n",
      "\u001b[1m53/53\u001b[0m \u001b[32m━━━━━━━━━━━━━━━━━━━━\u001b[0m\u001b[37m\u001b[0m \u001b[1m40s\u001b[0m 761ms/step - accuracy: 0.7417 - loss: 0.5657 - val_accuracy: 0.7217 - val_loss: 0.6267\n",
      "Epoch 9/100\n",
      "\u001b[1m53/53\u001b[0m \u001b[32m━━━━━━━━━━━━━━━━━━━━\u001b[0m\u001b[37m\u001b[0m \u001b[1m41s\u001b[0m 783ms/step - accuracy: 0.7437 - loss: 0.5619 - val_accuracy: 0.7270 - val_loss: 0.6256\n",
      "Epoch 10/100\n",
      "\u001b[1m53/53\u001b[0m \u001b[32m━━━━━━━━━━━━━━━━━━━━\u001b[0m\u001b[37m\u001b[0m \u001b[1m41s\u001b[0m 777ms/step - accuracy: 0.7434 - loss: 0.5593 - val_accuracy: 0.7178 - val_loss: 0.6235\n",
      "Epoch 11/100\n",
      "\u001b[1m53/53\u001b[0m \u001b[32m━━━━━━━━━━━━━━━━━━━━\u001b[0m\u001b[37m\u001b[0m \u001b[1m41s\u001b[0m 779ms/step - accuracy: 0.7477 - loss: 0.5540 - val_accuracy: 0.7320 - val_loss: 0.6097\n",
      "Epoch 12/100\n",
      "\u001b[1m53/53\u001b[0m \u001b[32m━━━━━━━━━━━━━━━━━━━━\u001b[0m\u001b[37m\u001b[0m \u001b[1m41s\u001b[0m 781ms/step - accuracy: 0.7475 - loss: 0.5527 - val_accuracy: 0.7340 - val_loss: 0.6111\n",
      "Epoch 13/100\n",
      "\u001b[1m53/53\u001b[0m \u001b[32m━━━━━━━━━━━━━━━━━━━━\u001b[0m\u001b[37m\u001b[0m \u001b[1m41s\u001b[0m 780ms/step - accuracy: 0.7492 - loss: 0.5493 - val_accuracy: 0.7259 - val_loss: 0.6250\n",
      "Epoch 13: early stopping\n",
      "Restoring model weights from the end of the best epoch: 5.\n",
      "\\n==================== ЗАПУСК ОБУЧЕНИЯ #5/30 ДЛЯ 'universal_v3.0_60_20_hybrid' ====================\n",
      "Epoch 1/100\n",
      "\u001b[1m53/53\u001b[0m \u001b[32m━━━━━━━━━━━━━━━━━━━━\u001b[0m\u001b[37m\u001b[0m \u001b[1m35s\u001b[0m 603ms/step - accuracy: 0.7066 - loss: 0.8807 - val_accuracy: 0.7145 - val_loss: 0.7305\n",
      "Epoch 2/100\n",
      "\u001b[1m53/53\u001b[0m \u001b[32m━━━━━━━━━━━━━━━━━━━━\u001b[0m\u001b[37m\u001b[0m \u001b[1m41s\u001b[0m 780ms/step - accuracy: 0.7259 - loss: 0.6785 - val_accuracy: 0.7146 - val_loss: 0.6693\n",
      "Epoch 3/100\n",
      "\u001b[1m53/53\u001b[0m \u001b[32m━━━━━━━━━━━━━━━━━━━━\u001b[0m\u001b[37m\u001b[0m \u001b[1m41s\u001b[0m 777ms/step - accuracy: 0.7310 - loss: 0.6180 - val_accuracy: 0.7170 - val_loss: 0.6371\n",
      "Epoch 4/100\n",
      "\u001b[1m53/53\u001b[0m \u001b[32m━━━━━━━━━━━━━━━━━━━━\u001b[0m\u001b[37m\u001b[0m \u001b[1m41s\u001b[0m 786ms/step - accuracy: 0.7334 - loss: 0.5932 - val_accuracy: 0.7223 - val_loss: 0.6251\n",
      "Epoch 5/100\n",
      "\u001b[1m53/53\u001b[0m \u001b[32m━━━━━━━━━━━━━━━━━━━━\u001b[0m\u001b[37m\u001b[0m \u001b[1m25s\u001b[0m 482ms/step - accuracy: 0.7354 - loss: 0.5801 - val_accuracy: 0.7266 - val_loss: 0.6240\n",
      "Epoch 6/100\n",
      "\u001b[1m53/53\u001b[0m \u001b[32m━━━━━━━━━━━━━━━━━━━━\u001b[0m\u001b[37m\u001b[0m \u001b[1m40s\u001b[0m 753ms/step - accuracy: 0.7382 - loss: 0.5728 - val_accuracy: 0.7317 - val_loss: 0.6108\n",
      "Epoch 7/100\n",
      "\u001b[1m53/53\u001b[0m \u001b[32m━━━━━━━━━━━━━━━━━━━━\u001b[0m\u001b[37m\u001b[0m \u001b[1m26s\u001b[0m 484ms/step - accuracy: 0.7394 - loss: 0.5675 - val_accuracy: 0.7301 - val_loss: 0.6340\n",
      "Epoch 8/100\n",
      "\u001b[1m53/53\u001b[0m \u001b[32m━━━━━━━━━━━━━━━━━━━━\u001b[0m\u001b[37m\u001b[0m \u001b[1m32s\u001b[0m 600ms/step - accuracy: 0.7417 - loss: 0.5635 - val_accuracy: 0.7353 - val_loss: 0.6166\n",
      "Epoch 9/100\n",
      "\u001b[1m53/53\u001b[0m \u001b[32m━━━━━━━━━━━━━━━━━━━━\u001b[0m\u001b[37m\u001b[0m \u001b[1m39s\u001b[0m 735ms/step - accuracy: 0.7457 - loss: 0.5577 - val_accuracy: 0.7270 - val_loss: 0.6336\n",
      "Epoch 10/100\n",
      "\u001b[1m53/53\u001b[0m \u001b[32m━━━━━━━━━━━━━━━━━━━━\u001b[0m\u001b[37m\u001b[0m \u001b[1m42s\u001b[0m 790ms/step - accuracy: 0.7455 - loss: 0.5560 - val_accuracy: 0.7418 - val_loss: 0.5995\n",
      "Epoch 11/100\n",
      "\u001b[1m53/53\u001b[0m \u001b[32m━━━━━━━━━━━━━━━━━━━━\u001b[0m\u001b[37m\u001b[0m \u001b[1m41s\u001b[0m 776ms/step - accuracy: 0.7469 - loss: 0.5518 - val_accuracy: 0.7451 - val_loss: 0.6117\n",
      "Epoch 12/100\n",
      "\u001b[1m53/53\u001b[0m \u001b[32m━━━━━━━━━━━━━━━━━━━━\u001b[0m\u001b[37m\u001b[0m \u001b[1m41s\u001b[0m 779ms/step - accuracy: 0.7490 - loss: 0.5491 - val_accuracy: 0.7420 - val_loss: 0.5868\n",
      "Epoch 13/100\n",
      "\u001b[1m53/53\u001b[0m \u001b[32m━━━━━━━━━━━━━━━━━━━━\u001b[0m\u001b[37m\u001b[0m \u001b[1m40s\u001b[0m 769ms/step - accuracy: 0.7522 - loss: 0.5463 - val_accuracy: 0.7354 - val_loss: 0.5999\n",
      "Epoch 14/100\n",
      "\u001b[1m53/53\u001b[0m \u001b[32m━━━━━━━━━━━━━━━━━━━━\u001b[0m\u001b[37m\u001b[0m \u001b[1m41s\u001b[0m 781ms/step - accuracy: 0.7536 - loss: 0.5412 - val_accuracy: 0.7215 - val_loss: 0.6168\n",
      "Epoch 15/100\n",
      "\u001b[1m53/53\u001b[0m \u001b[32m━━━━━━━━━━━━━━━━━━━━\u001b[0m\u001b[37m\u001b[0m \u001b[1m26s\u001b[0m 490ms/step - accuracy: 0.7551 - loss: 0.5390 - val_accuracy: 0.7377 - val_loss: 0.5963\n",
      "Epoch 16/100\n",
      "\u001b[1m53/53\u001b[0m \u001b[32m━━━━━━━━━━━━━━━━━━━━\u001b[0m\u001b[37m\u001b[0m \u001b[1m40s\u001b[0m 753ms/step - accuracy: 0.7594 - loss: 0.5322 - val_accuracy: 0.7336 - val_loss: 0.6229\n",
      "Epoch 17/100\n",
      "\u001b[1m53/53\u001b[0m \u001b[32m━━━━━━━━━━━━━━━━━━━━\u001b[0m\u001b[37m\u001b[0m \u001b[1m26s\u001b[0m 494ms/step - accuracy: 0.7612 - loss: 0.5286 - val_accuracy: 0.7260 - val_loss: 0.6277\n",
      "Epoch 18/100\n",
      "\u001b[1m53/53\u001b[0m \u001b[32m━━━━━━━━━━━━━━━━━━━━\u001b[0m\u001b[37m\u001b[0m \u001b[1m39s\u001b[0m 744ms/step - accuracy: 0.7641 - loss: 0.5269 - val_accuracy: 0.7250 - val_loss: 0.6287\n",
      "Epoch 19/100\n",
      "\u001b[1m53/53\u001b[0m \u001b[32m━━━━━━━━━━━━━━━━━━━━\u001b[0m\u001b[37m\u001b[0m \u001b[1m41s\u001b[0m 779ms/step - accuracy: 0.7652 - loss: 0.5234 - val_accuracy: 0.7300 - val_loss: 0.6567\n",
      "Epoch 19: early stopping\n",
      "Restoring model weights from the end of the best epoch: 11.\n",
      "✅ Новый лучший результат: 74.51%\n",
      "✅ Модель сохранена в: /content/drive/MyDrive/Colab Notebooks/trader_test/2_results/model_universal_v3.0_60_20_hybrid.keras\n",
      "\\n==================== ЗАПУСК ОБУЧЕНИЯ #6/30 ДЛЯ 'universal_v3.0_60_20_hybrid' ====================\n",
      "Epoch 1/100\n",
      "\u001b[1m53/53\u001b[0m \u001b[32m━━━━━━━━━━━━━━━━━━━━\u001b[0m\u001b[37m\u001b[0m \u001b[1m39s\u001b[0m 659ms/step - accuracy: 0.7112 - loss: 0.8817 - val_accuracy: 0.7145 - val_loss: 0.7393\n",
      "Epoch 2/100\n",
      "\u001b[1m53/53\u001b[0m \u001b[32m━━━━━━━━━━━━━━━━━━━━\u001b[0m\u001b[37m\u001b[0m \u001b[1m41s\u001b[0m 776ms/step - accuracy: 0.7268 - loss: 0.6885 - val_accuracy: 0.7151 - val_loss: 0.6684\n",
      "Epoch 3/100\n",
      "\u001b[1m53/53\u001b[0m \u001b[32m━━━━━━━━━━━━━━━━━━━━\u001b[0m\u001b[37m\u001b[0m \u001b[1m37s\u001b[0m 697ms/step - accuracy: 0.7288 - loss: 0.6282 - val_accuracy: 0.7182 - val_loss: 0.6520\n",
      "Epoch 4/100\n",
      "\u001b[1m53/53\u001b[0m \u001b[32m━━━━━━━━━━━━━━━━━━━━\u001b[0m\u001b[37m\u001b[0m \u001b[1m38s\u001b[0m 717ms/step - accuracy: 0.7329 - loss: 0.6019 - val_accuracy: 0.7225 - val_loss: 0.6304\n",
      "Epoch 5/100\n",
      "\u001b[1m53/53\u001b[0m \u001b[32m━━━━━━━━━━━━━━━━━━━━\u001b[0m\u001b[37m\u001b[0m \u001b[1m31s\u001b[0m 595ms/step - accuracy: 0.7338 - loss: 0.5869 - val_accuracy: 0.7190 - val_loss: 0.6323\n",
      "Epoch 6/100\n",
      "\u001b[1m53/53\u001b[0m \u001b[32m━━━━━━━━━━━━━━━━━━━━\u001b[0m\u001b[37m\u001b[0m \u001b[1m32s\u001b[0m 616ms/step - accuracy: 0.7357 - loss: 0.5796 - val_accuracy: 0.7221 - val_loss: 0.6379\n",
      "Epoch 7/100\n",
      "\u001b[1m53/53\u001b[0m \u001b[32m━━━━━━━━━━━━━━━━━━━━\u001b[0m\u001b[37m\u001b[0m \u001b[1m39s\u001b[0m 749ms/step - accuracy: 0.7378 - loss: 0.5718 - val_accuracy: 0.7173 - val_loss: 0.6656\n",
      "Epoch 8/100\n",
      "\u001b[1m53/53\u001b[0m \u001b[32m━━━━━━━━━━━━━━━━━━━━\u001b[0m\u001b[37m\u001b[0m \u001b[1m41s\u001b[0m 775ms/step - accuracy: 0.7395 - loss: 0.5671 - val_accuracy: 0.7205 - val_loss: 0.6433\n",
      "Epoch 9/100\n",
      "\u001b[1m53/53\u001b[0m \u001b[32m━━━━━━━━━━━━━━━━━━━━\u001b[0m\u001b[37m\u001b[0m \u001b[1m29s\u001b[0m 544ms/step - accuracy: 0.7432 - loss: 0.5600 - val_accuracy: 0.7233 - val_loss: 0.6199\n",
      "Epoch 10/100\n",
      "\u001b[1m53/53\u001b[0m \u001b[32m━━━━━━━━━━━━━━━━━━━━\u001b[0m\u001b[37m\u001b[0m \u001b[1m39s\u001b[0m 741ms/step - accuracy: 0.7462 - loss: 0.5562 - val_accuracy: 0.7191 - val_loss: 0.6549\n",
      "Epoch 11/100\n",
      "\u001b[1m53/53\u001b[0m \u001b[32m━━━━━━━━━━━━━━━━━━━━\u001b[0m\u001b[37m\u001b[0m \u001b[1m41s\u001b[0m 772ms/step - accuracy: 0.7471 - loss: 0.5523 - val_accuracy: 0.7221 - val_loss: 0.6471\n",
      "Epoch 12/100\n",
      "\u001b[1m53/53\u001b[0m \u001b[32m━━━━━━━━━━━━━━━━━━━━\u001b[0m\u001b[37m\u001b[0m \u001b[1m26s\u001b[0m 490ms/step - accuracy: 0.7499 - loss: 0.5466 - val_accuracy: 0.7205 - val_loss: 0.6677\n",
      "Epoch 13/100\n",
      "\u001b[1m53/53\u001b[0m \u001b[32m━━━━━━━━━━━━━━━━━━━━\u001b[0m\u001b[37m\u001b[0m \u001b[1m34s\u001b[0m 637ms/step - accuracy: 0.7517 - loss: 0.5445 - val_accuracy: 0.7163 - val_loss: 0.6830\n",
      "Epoch 14/100\n",
      "\u001b[1m53/53\u001b[0m \u001b[32m━━━━━━━━━━━━━━━━━━━━\u001b[0m\u001b[37m\u001b[0m \u001b[1m40s\u001b[0m 755ms/step - accuracy: 0.7539 - loss: 0.5403 - val_accuracy: 0.7233 - val_loss: 0.6601\n",
      "Epoch 15/100\n",
      "\u001b[1m53/53\u001b[0m \u001b[32m━━━━━━━━━━━━━━━━━━━━\u001b[0m\u001b[37m\u001b[0m \u001b[1m41s\u001b[0m 779ms/step - accuracy: 0.7585 - loss: 0.5355 - val_accuracy: 0.7128 - val_loss: 0.6597\n",
      "Epoch 16/100\n",
      "\u001b[1m53/53\u001b[0m \u001b[32m━━━━━━━━━━━━━━━━━━━━\u001b[0m\u001b[37m\u001b[0m \u001b[1m41s\u001b[0m 789ms/step - accuracy: 0.7589 - loss: 0.5350 - val_accuracy: 0.7060 - val_loss: 0.6573\n",
      "Epoch 17/100\n",
      "\u001b[1m53/53\u001b[0m \u001b[32m━━━━━━━━━━━━━━━━━━━━\u001b[0m\u001b[37m\u001b[0m \u001b[1m41s\u001b[0m 786ms/step - accuracy: 0.7624 - loss: 0.5282 - val_accuracy: 0.7253 - val_loss: 0.6407\n",
      "Epoch 18/100\n",
      "\u001b[1m53/53\u001b[0m \u001b[32m━━━━━━━━━━━━━━━━━━━━\u001b[0m\u001b[37m\u001b[0m \u001b[1m40s\u001b[0m 768ms/step - accuracy: 0.7660 - loss: 0.5228 - val_accuracy: 0.7167 - val_loss: 0.6406\n",
      "Epoch 19/100\n",
      "\u001b[1m53/53\u001b[0m \u001b[32m━━━━━━━━━━━━━━━━━━━━\u001b[0m\u001b[37m\u001b[0m \u001b[1m41s\u001b[0m 778ms/step - accuracy: 0.7686 - loss: 0.5195 - val_accuracy: 0.7210 - val_loss: 0.6572\n",
      "Epoch 20/100\n",
      "\u001b[1m53/53\u001b[0m \u001b[32m━━━━━━━━━━━━━━━━━━━━\u001b[0m\u001b[37m\u001b[0m \u001b[1m41s\u001b[0m 780ms/step - accuracy: 0.7728 - loss: 0.5143 - val_accuracy: 0.7327 - val_loss: 0.6338\n",
      "Epoch 21/100\n",
      "\u001b[1m53/53\u001b[0m \u001b[32m━━━━━━━━━━━━━━━━━━━━\u001b[0m\u001b[37m\u001b[0m \u001b[1m41s\u001b[0m 779ms/step - accuracy: 0.7714 - loss: 0.5137 - val_accuracy: 0.7347 - val_loss: 0.6365\n",
      "Epoch 22/100\n",
      "\u001b[1m53/53\u001b[0m \u001b[32m━━━━━━━━━━━━━━━━━━━━\u001b[0m\u001b[37m\u001b[0m \u001b[1m41s\u001b[0m 780ms/step - accuracy: 0.7754 - loss: 0.5081 - val_accuracy: 0.7324 - val_loss: 0.6391\n",
      "Epoch 23/100\n",
      "\u001b[1m53/53\u001b[0m \u001b[32m━━━━━━━━━━━━━━━━━━━━\u001b[0m\u001b[37m\u001b[0m \u001b[1m26s\u001b[0m 492ms/step - accuracy: 0.7797 - loss: 0.5029 - val_accuracy: 0.7040 - val_loss: 0.6648\n",
      "Epoch 24/100\n",
      "\u001b[1m53/53\u001b[0m \u001b[32m━━━━━━━━━━━━━━━━━━━━\u001b[0m\u001b[37m\u001b[0m \u001b[1m41s\u001b[0m 772ms/step - accuracy: 0.7839 - loss: 0.4955 - val_accuracy: 0.7091 - val_loss: 0.6479\n",
      "Epoch 25/100\n",
      "\u001b[1m53/53\u001b[0m \u001b[32m━━━━━━━━━━━━━━━━━━━━\u001b[0m\u001b[37m\u001b[0m \u001b[1m40s\u001b[0m 770ms/step - accuracy: 0.7856 - loss: 0.4914 - val_accuracy: 0.7188 - val_loss: 0.6460\n",
      "Epoch 26/100\n",
      "\u001b[1m53/53\u001b[0m \u001b[32m━━━━━━━━━━━━━━━━━━━━\u001b[0m\u001b[37m\u001b[0m \u001b[1m41s\u001b[0m 777ms/step - accuracy: 0.7900 - loss: 0.4869 - val_accuracy: 0.6819 - val_loss: 0.6875\n",
      "Epoch 27/100\n",
      "\u001b[1m53/53\u001b[0m \u001b[32m━━━━━━━━━━━━━━━━━━━━\u001b[0m\u001b[37m\u001b[0m \u001b[1m41s\u001b[0m 788ms/step - accuracy: 0.7903 - loss: 0.4848 - val_accuracy: 0.7003 - val_loss: 0.6874\n",
      "Epoch 28/100\n",
      "\u001b[1m53/53\u001b[0m \u001b[32m━━━━━━━━━━━━━━━━━━━━\u001b[0m\u001b[37m\u001b[0m \u001b[1m41s\u001b[0m 787ms/step - accuracy: 0.7943 - loss: 0.4783 - val_accuracy: 0.7035 - val_loss: 0.6747\n",
      "Epoch 29/100\n",
      "\u001b[1m53/53\u001b[0m \u001b[32m━━━━━━━━━━━━━━━━━━━━\u001b[0m\u001b[37m\u001b[0m \u001b[1m40s\u001b[0m 770ms/step - accuracy: 0.7964 - loss: 0.4743 - val_accuracy: 0.7148 - val_loss: 0.6526\n",
      "Epoch 29: early stopping\n",
      "Restoring model weights from the end of the best epoch: 21.\n",
      "\\n==================== ЗАПУСК ОБУЧЕНИЯ #7/30 ДЛЯ 'universal_v3.0_60_20_hybrid' ====================\n",
      "Epoch 1/100\n",
      "\u001b[1m53/53\u001b[0m \u001b[32m━━━━━━━━━━━━━━━━━━━━\u001b[0m\u001b[37m\u001b[0m \u001b[1m37s\u001b[0m 637ms/step - accuracy: 0.7164 - loss: 0.8787 - val_accuracy: 0.7145 - val_loss: 0.7295\n",
      "Epoch 2/100\n",
      "\u001b[1m53/53\u001b[0m \u001b[32m━━━━━━━━━━━━━━━━━━━━\u001b[0m\u001b[37m\u001b[0m \u001b[1m41s\u001b[0m 779ms/step - accuracy: 0.7265 - loss: 0.6838 - val_accuracy: 0.7150 - val_loss: 0.6676\n",
      "Epoch 3/100\n",
      "\u001b[1m53/53\u001b[0m \u001b[32m━━━━━━━━━━━━━━━━━━━━\u001b[0m\u001b[37m\u001b[0m \u001b[1m41s\u001b[0m 776ms/step - accuracy: 0.7284 - loss: 0.6245 - val_accuracy: 0.7145 - val_loss: 0.6465\n",
      "Epoch 4/100\n",
      "\u001b[1m53/53\u001b[0m \u001b[32m━━━━━━━━━━━━━━━━━━━━\u001b[0m\u001b[37m\u001b[0m \u001b[1m40s\u001b[0m 771ms/step - accuracy: 0.7290 - loss: 0.5991 - val_accuracy: 0.7186 - val_loss: 0.6291\n",
      "Epoch 5/100\n",
      "\u001b[1m53/53\u001b[0m \u001b[32m━━━━━━━━━━━━━━━━━━━━\u001b[0m\u001b[37m\u001b[0m \u001b[1m26s\u001b[0m 492ms/step - accuracy: 0.7317 - loss: 0.5860 - val_accuracy: 0.7332 - val_loss: 0.6064\n",
      "Epoch 6/100\n",
      "\u001b[1m53/53\u001b[0m \u001b[32m━━━━━━━━━━━━━━━━━━━━\u001b[0m\u001b[37m\u001b[0m \u001b[1m39s\u001b[0m 742ms/step - accuracy: 0.7369 - loss: 0.5768 - val_accuracy: 0.7217 - val_loss: 0.6237\n",
      "Epoch 7/100\n",
      "\u001b[1m53/53\u001b[0m \u001b[32m━━━━━━━━━━━━━━━━━━━━\u001b[0m\u001b[37m\u001b[0m \u001b[1m26s\u001b[0m 496ms/step - accuracy: 0.7374 - loss: 0.5712 - val_accuracy: 0.7239 - val_loss: 0.6232\n",
      "Epoch 8/100\n",
      "\u001b[1m53/53\u001b[0m \u001b[32m━━━━━━━━━━━━━━━━━━━━\u001b[0m\u001b[37m\u001b[0m \u001b[1m39s\u001b[0m 739ms/step - accuracy: 0.7401 - loss: 0.5664 - val_accuracy: 0.7334 - val_loss: 0.5931\n",
      "Epoch 9/100\n",
      "\u001b[1m53/53\u001b[0m \u001b[32m━━━━━━━━━━━━━━━━━━━━\u001b[0m\u001b[37m\u001b[0m \u001b[1m41s\u001b[0m 788ms/step - accuracy: 0.7443 - loss: 0.5610 - val_accuracy: 0.7372 - val_loss: 0.6215\n",
      "Epoch 10/100\n",
      "\u001b[1m53/53\u001b[0m \u001b[32m━━━━━━━━━━━━━━━━━━━━\u001b[0m\u001b[37m\u001b[0m \u001b[1m41s\u001b[0m 776ms/step - accuracy: 0.7463 - loss: 0.5566 - val_accuracy: 0.7428 - val_loss: 0.6140\n",
      "Epoch 11/100\n",
      "\u001b[1m53/53\u001b[0m \u001b[32m━━━━━━━━━━━━━━━━━━━━\u001b[0m\u001b[37m\u001b[0m \u001b[1m41s\u001b[0m 771ms/step - accuracy: 0.7480 - loss: 0.5531 - val_accuracy: 0.7458 - val_loss: 0.6087\n",
      "Epoch 12/100\n",
      "\u001b[1m53/53\u001b[0m \u001b[32m━━━━━━━━━━━━━━━━━━━━\u001b[0m\u001b[37m\u001b[0m \u001b[1m41s\u001b[0m 780ms/step - accuracy: 0.7485 - loss: 0.5510 - val_accuracy: 0.7538 - val_loss: 0.6157\n",
      "Epoch 13/100\n",
      "\u001b[1m53/53\u001b[0m \u001b[32m━━━━━━━━━━━━━━━━━━━━\u001b[0m\u001b[37m\u001b[0m \u001b[1m41s\u001b[0m 784ms/step - accuracy: 0.7523 - loss: 0.5460 - val_accuracy: 0.7365 - val_loss: 0.6343\n",
      "Epoch 14/100\n",
      "\u001b[1m53/53\u001b[0m \u001b[32m━━━━━━━━━━━━━━━━━━━━\u001b[0m\u001b[37m\u001b[0m \u001b[1m41s\u001b[0m 777ms/step - accuracy: 0.7562 - loss: 0.5401 - val_accuracy: 0.7522 - val_loss: 0.6212\n",
      "Epoch 15/100\n",
      "\u001b[1m53/53\u001b[0m \u001b[32m━━━━━━━━━━━━━━━━━━━━\u001b[0m\u001b[37m\u001b[0m \u001b[1m41s\u001b[0m 780ms/step - accuracy: 0.7564 - loss: 0.5380 - val_accuracy: 0.7358 - val_loss: 0.6411\n",
      "Epoch 16/100\n",
      "\u001b[1m53/53\u001b[0m \u001b[32m━━━━━━━━━━━━━━━━━━━━\u001b[0m\u001b[37m\u001b[0m \u001b[1m26s\u001b[0m 495ms/step - accuracy: 0.7600 - loss: 0.5339 - val_accuracy: 0.7374 - val_loss: 0.6237\n",
      "Epoch 17/100\n",
      "\u001b[1m53/53\u001b[0m \u001b[32m━━━━━━━━━━━━━━━━━━━━\u001b[0m\u001b[37m\u001b[0m \u001b[1m39s\u001b[0m 749ms/step - accuracy: 0.7630 - loss: 0.5314 - val_accuracy: 0.7440 - val_loss: 0.6243\n",
      "Epoch 18/100\n",
      "\u001b[1m53/53\u001b[0m \u001b[32m━━━━━━━━━━━━━━━━━━━━\u001b[0m\u001b[37m\u001b[0m \u001b[1m41s\u001b[0m 783ms/step - accuracy: 0.7663 - loss: 0.5247 - val_accuracy: 0.7464 - val_loss: 0.6156\n",
      "Epoch 19/100\n",
      "\u001b[1m53/53\u001b[0m \u001b[32m━━━━━━━━━━━━━━━━━━━━\u001b[0m\u001b[37m\u001b[0m \u001b[1m41s\u001b[0m 787ms/step - accuracy: 0.7697 - loss: 0.5216 - val_accuracy: 0.7130 - val_loss: 0.6566\n",
      "Epoch 20/100\n",
      "\u001b[1m53/53\u001b[0m \u001b[32m━━━━━━━━━━━━━━━━━━━━\u001b[0m\u001b[37m\u001b[0m \u001b[1m41s\u001b[0m 779ms/step - accuracy: 0.7703 - loss: 0.5184 - val_accuracy: 0.7267 - val_loss: 0.6332\n",
      "Epoch 20: early stopping\n",
      "Restoring model weights from the end of the best epoch: 12.\n",
      "✅ Новый лучший результат: 75.38%\n",
      "✅ Модель сохранена в: /content/drive/MyDrive/Colab Notebooks/trader_test/2_results/model_universal_v3.0_60_20_hybrid.keras\n",
      "\\n==================== ЗАПУСК ОБУЧЕНИЯ #8/30 ДЛЯ 'universal_v3.0_60_20_hybrid' ====================\n",
      "Epoch 1/100\n",
      "\u001b[1m53/53\u001b[0m \u001b[32m━━━━━━━━━━━━━━━━━━━━\u001b[0m\u001b[37m\u001b[0m \u001b[1m37s\u001b[0m 649ms/step - accuracy: 0.6751 - loss: 0.8926 - val_accuracy: 0.7145 - val_loss: 0.7471\n",
      "Epoch 2/100\n",
      "\u001b[1m53/53\u001b[0m \u001b[32m━━━━━━━━━━━━━━━━━━━━\u001b[0m\u001b[37m\u001b[0m \u001b[1m41s\u001b[0m 771ms/step - accuracy: 0.7265 - loss: 0.6845 - val_accuracy: 0.7151 - val_loss: 0.6628\n",
      "Epoch 3/100\n",
      "\u001b[1m53/53\u001b[0m \u001b[32m━━━━━━━━━━━━━━━━━━━━\u001b[0m\u001b[37m\u001b[0m \u001b[1m31s\u001b[0m 582ms/step - accuracy: 0.7275 - loss: 0.6243 - val_accuracy: 0.7228 - val_loss: 0.6330\n",
      "Epoch 4/100\n",
      "\u001b[1m53/53\u001b[0m \u001b[32m━━━━━━━━━━━━━━━━━━━━\u001b[0m\u001b[37m\u001b[0m \u001b[1m40s\u001b[0m 759ms/step - accuracy: 0.7311 - loss: 0.5958 - val_accuracy: 0.7340 - val_loss: 0.6096\n",
      "Epoch 5/100\n",
      "\u001b[1m53/53\u001b[0m \u001b[32m━━━━━━━━━━━━━━━━━━━━\u001b[0m\u001b[37m\u001b[0m \u001b[1m41s\u001b[0m 787ms/step - accuracy: 0.7339 - loss: 0.5832 - val_accuracy: 0.7338 - val_loss: 0.6141\n",
      "Epoch 6/100\n",
      "\u001b[1m53/53\u001b[0m \u001b[32m━━━━━━━━━━━━━━━━━━━━\u001b[0m\u001b[37m\u001b[0m \u001b[1m41s\u001b[0m 773ms/step - accuracy: 0.7366 - loss: 0.5752 - val_accuracy: 0.7269 - val_loss: 0.6082\n",
      "Epoch 7/100\n",
      "\u001b[1m53/53\u001b[0m \u001b[32m━━━━━━━━━━━━━━━━━━━━\u001b[0m\u001b[37m\u001b[0m \u001b[1m27s\u001b[0m 514ms/step - accuracy: 0.7386 - loss: 0.5695 - val_accuracy: 0.7250 - val_loss: 0.6138\n",
      "Epoch 8/100\n",
      "\u001b[1m53/53\u001b[0m \u001b[32m━━━━━━━━━━━━━━━━━━━━\u001b[0m\u001b[37m\u001b[0m \u001b[1m39s\u001b[0m 735ms/step - accuracy: 0.7387 - loss: 0.5669 - val_accuracy: 0.7229 - val_loss: 0.6173\n",
      "Epoch 9/100\n",
      "\u001b[1m46/53\u001b[0m \u001b[32m━━━━━━━━━━━━━━━━━\u001b[0m\u001b[37m━━━\u001b[0m \u001b[1m3s\u001b[0m 429ms/step - accuracy: 0.7445 - loss: 0.5602Traceback (most recent call last):\n",
      "  File \"<frozen runpy>\", line 198, in _run_module_as_main\n",
      "  File \"<frozen runpy>\", line 88, in _run_code\n",
      "  File \"/content/drive/MyDrive/Colab Notebooks/trader_test/_tools/train_universal_lstm.py\", line 54, in <module>\n",
      "    model.fit(train_pipeline, epochs=100, validation_data=test_pipeline, callbacks=[early_stopping], steps_per_epoch=steps_per_epoch, validation_steps=validation_steps)\n",
      "  File \"/usr/local/lib/python3.12/dist-packages/keras/src/utils/traceback_utils.py\", line 117, in error_handler\n",
      "    return fn(*args, **kwargs)\n",
      "           ^^^^^^^^^^^^^^^^^^^\n",
      "  File \"/usr/local/lib/python3.12/dist-packages/keras/src/backend/tensorflow/trainer.py\", line 377, in fit\n",
      "    logs = self.train_function(iterator)\n",
      "           ^^^^^^^^^^^^^^^^^^^^^^^^^^^^^\n",
      "  File \"/usr/local/lib/python3.12/dist-packages/keras/src/backend/tensorflow/trainer.py\", line 221, in function\n",
      "    if not opt_outputs.has_value():\n",
      "           ^^^^^^^^^^^^^^^^^^^^^^^\n",
      "  File \"/usr/local/lib/python3.12/dist-packages/tensorflow/python/data/ops/optional_ops.py\", line 176, in has_value\n",
      "    return gen_optional_ops.optional_has_value(\n",
      "           ^^^^^^^^^^^^^^^^^^^^^^^^^^^^^^^^^^^^\n",
      "  File \"/usr/local/lib/python3.12/dist-packages/tensorflow/python/ops/gen_optional_ops.py\", line 172, in optional_has_value\n",
      "    _result = pywrap_tfe.TFE_Py_FastPathExecute(\n",
      "              ^^^^^^^^^^^^^^^^^^^^^^^^^^^^^^^^^^\n",
      "KeyboardInterrupt\n",
      "^C\n"
     ]
    }
   ],
   "source": [
    "!python -m _tools.train_universal_lstm --model_name \"{MODEL_NAME}\""
   ]
  },
  {
   "cell_type": "code",
   "execution_count": null,
   "id": "b4ba0448",
   "metadata": {
    "id": "b4ba0448"
   },
   "outputs": [],
   "source": [
    "!python -m _tools.train_universal_transformer --model_name \"{MODEL_NAME}\""
   ]
  },
  {
   "cell_type": "code",
   "execution_count": 12,
   "id": "34375318",
   "metadata": {
    "colab": {
     "base_uri": "https://localhost:8080/"
    },
    "executionInfo": {
     "elapsed": 10895,
     "status": "ok",
     "timestamp": 1757502096413,
     "user": {
      "displayName": "Михаил Львов",
      "userId": "09729415354557860685"
     },
     "user_tz": -180
    },
    "id": "34375318",
    "outputId": "c5cf6d8e-434c-4175-ad1d-baf86103bfe7"
   },
   "outputs": [
    {
     "name": "stdout",
     "output_type": "stream",
     "text": [
      "2025-09-10 11:01:27.434175: E external/local_xla/xla/stream_executor/cuda/cuda_fft.cc:467] Unable to register cuFFT factory: Attempting to register factory for plugin cuFFT when one has already been registered\n",
      "WARNING: All log messages before absl::InitializeLog() is called are written to STDERR\n",
      "E0000 00:00:1757502087.452918   16796 cuda_dnn.cc:8579] Unable to register cuDNN factory: Attempting to register factory for plugin cuDNN when one has already been registered\n",
      "E0000 00:00:1757502087.458716   16796 cuda_blas.cc:1407] Unable to register cuBLAS factory: Attempting to register factory for plugin cuBLAS when one has already been registered\n",
      "W0000 00:00:1757502087.473388   16796 computation_placer.cc:177] computation placer already registered. Please check linkage and avoid linking the same target more than once.\n",
      "W0000 00:00:1757502087.473414   16796 computation_placer.cc:177] computation placer already registered. Please check linkage and avoid linking the same target more than once.\n",
      "W0000 00:00:1757502087.473417   16796 computation_placer.cc:177] computation placer already registered. Please check linkage and avoid linking the same target more than once.\n",
      "W0000 00:00:1757502087.473422   16796 computation_placer.cc:177] computation placer already registered. Please check linkage and avoid linking the same target more than once.\n",
      "✅ Окружение и сторонние библиотеки инициализированы.\n",
      "Traceback (most recent call last):\n",
      "  File \"<frozen runpy>\", line 198, in _run_module_as_main\n",
      "  File \"<frozen runpy>\", line 88, in _run_code\n",
      "  File \"/content/drive/MyDrive/Colab Notebooks/trader_test/_tools/report_extrema_accuracy.py\", line 123, in <module>\n",
      "    main(args)\n",
      "  File \"/content/drive/MyDrive/Colab Notebooks/trader_test/_tools/report_extrema_accuracy.py\", line 33, in main\n",
      "    model = load_model(model_path)\n",
      "            ^^^^^^^^^^^^^^^^^^^^^^\n",
      "  File \"/usr/local/lib/python3.12/dist-packages/keras/src/saving/saving_api.py\", line 200, in load_model\n",
      "    raise ValueError(\n",
      "ValueError: File not found: filepath=/content/drive/MyDrive/Colab Notebooks/trader_test/2_results/model_universal_v2.0_60_20.keras. Please ensure the file is an accessible `.keras` zip file.\n"
     ]
    }
   ],
   "source": [
    "!python -m _tools.report_extrema_accuracy --model_name \"{MODEL_NAME}\" --universe_file \"{UNIVERSE_FILE}\""
   ]
  },
  {
   "cell_type": "code",
   "execution_count": null,
   "id": "9591508e",
   "metadata": {
    "id": "9591508e",
    "outputId": "e7ebda29-fb5d-424f-9c9f-5bcd9a8f878f"
   },
   "outputs": [
    {
     "name": "stdout",
     "output_type": "stream",
     "text": [
      "✅ Окружение и сторонние библиотеки инициализированы.\n",
      "✅ Файлы 'report_universal_v2.1_60_20_on_universe.csv' и 'report_universal_v2_60_20_on_universe.csv' успешно загружены.\n",
      "\n",
      "--- Сводная таблица сравнения моделей (медианные значения) ---\n",
      "                     Точность (Precision) Полнота (Recall) F1-Score\n",
      "universal_v2.1_60_20               76.78%            6.11%    11.18\n",
      "universal_v2_60_20                 50.00%           25.42%    34.09\n",
      "\n",
      "--- Детальный анализ по акциям (изменение F1-Score) ---\n",
      "Улучшение F1-Score: 228 акций\n",
      "Ухудшение F1-Score: 0 акций\n",
      "Без изменений: 0 акций\n",
      "✅ График сравнения сохранен в файл: 2_results/comparison_universal_v2.1_60_20_vs_universal_v2_60_20.png\n"
     ]
    }
   ],
   "source": [
    "OLD_REPORT = \"2_results/report_universal_v2_60_20_on_universe.csv\"\n",
    "NEW_REPORT = f\"2_results/report_{MODEL_NAME}_on_universe.csv\"\n",
    "\n",
    "!python -m _tools.compare_reports \"{OLD_REPORT}\" \"{NEW_REPORT}\""
   ]
  }
 ],
 "metadata": {
  "accelerator": "GPU",
  "colab": {
   "gpuType": "T4",
   "provenance": []
  },
  "kernelspec": {
   "display_name": ".venv-tf",
   "language": "python",
   "name": "python3"
  },
  "language_info": {
   "codemirror_mode": {
    "name": "ipython",
    "version": 3
   },
   "file_extension": ".py",
   "mimetype": "text/x-python",
   "name": "python",
   "nbconvert_exporter": "python",
   "pygments_lexer": "ipython3",
   "version": "3.12.3"
  }
 },
 "nbformat": 4,
 "nbformat_minor": 5
}
